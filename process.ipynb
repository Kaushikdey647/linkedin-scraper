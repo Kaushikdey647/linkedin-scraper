{
 "cells": [
  {
   "cell_type": "markdown",
   "metadata": {},
   "source": [
    "## Import Requirements\n",
    "First things first :)"
   ]
  },
  {
   "cell_type": "code",
   "execution_count": null,
   "metadata": {},
   "outputs": [],
   "source": [
    "import requests\n",
    "from bs4 import BeautifulSoup as bs"
   ]
  },
  {
   "cell_type": "markdown",
   "metadata": {},
   "source": [
    "## Get a URL\n",
    "\n",
    "Lets try on my own"
   ]
  },
  {
   "cell_type": "code",
   "execution_count": null,
   "metadata": {},
   "outputs": [],
   "source": [
    "url = \"https://www.linkedin.com/in/kaushikdey647/\" # url to scrape\n",
    "\n",
    "head = {\n",
    "    \"User-agent\": \"KayDee647Scraper\",\n",
    "    \"Connection\": \"keep-alive\"\n",
    "}\n",
    "\n",
    "response = requests.get(url, headers=head) # get the response from the url\n",
    "soup = bs(response.text,\"html\") # parse the response\n",
    "soup"
   ]
  },
  {
   "cell_type": "markdown",
   "metadata": {},
   "source": [
    "# Oh no!\n",
    "Seems Like I can't do it that way, have to find another way around\n"
   ]
  },
  {
   "cell_type": "code",
   "execution_count": 1,
   "metadata": {},
   "outputs": [],
   "source": [
    "from selenium import webdriver\n",
    "from selenium.webdriver.common.keys import Keys\n",
    "from selenium.webdriver.common.by import By\n",
    "from selenium.webdriver.support import expected_conditions as EC\n",
    "from selenium.webdriver.support.ui import WebDriverWait\n",
    "import pandas as pd"
   ]
  },
  {
   "cell_type": "markdown",
   "metadata": {},
   "source": [
    "## Initiate WebDrivers\n",
    "Les go for Chrome 102\n"
   ]
  },
  {
   "cell_type": "code",
   "execution_count": 16,
   "metadata": {},
   "outputs": [
    {
     "name": "stderr",
     "output_type": "stream",
     "text": [
      "/tmp/ipykernel_10104/3447612866.py:1: DeprecationWarning: executable_path has been deprecated, please pass in a Service object\n",
      "  driver = webdriver.Chrome('./chromedriver')\n"
     ]
    }
   ],
   "source": [
    "driver = webdriver.Chrome('./chromedriver')\n",
    "driver.get('https://www.linkedin.com/login')\n",
    "\n",
    "username = \"dipadey213@gmail.com\"\n",
    "password = \"dipa9864d$#\""
   ]
  },
  {
   "cell_type": "code",
   "execution_count": 19,
   "metadata": {},
   "outputs": [
    {
     "name": "stdout",
     "output_type": "stream",
     "text": [
      "Feed page found\n"
     ]
    },
    {
     "data": {
      "text/plain": [
       "'https://www.linkedin.com/feed/'"
      ]
     },
     "execution_count": 19,
     "metadata": {},
     "output_type": "execute_result"
    }
   ],
   "source": [
    "from bs4 import BeautifulSoup as bs\n",
    "\n",
    "title = driver.title\n",
    "if 'Login' in title:\n",
    "    print('Login page found')\n",
    "if 'Feed' in title:\n",
    "    print('Feed page found')\n",
    "if 'Verification' in title:\n",
    "    print('Verification page found')\n",
    "driver.current_url"
   ]
  },
  {
   "cell_type": "code",
   "execution_count": 17,
   "metadata": {},
   "outputs": [
    {
     "name": "stderr",
     "output_type": "stream",
     "text": [
      "/tmp/ipykernel_10104/4151366165.py:1: DeprecationWarning: find_element_by_* commands are deprecated. Please use find_element() instead\n",
      "  driver.find_element_by_id(\"username\").send_keys(username)\n",
      "/tmp/ipykernel_10104/4151366165.py:3: DeprecationWarning: find_element_by_* commands are deprecated. Please use find_element() instead\n",
      "  driver.find_element_by_id(\"password\").send_keys(password)\n",
      "/tmp/ipykernel_10104/4151366165.py:5: DeprecationWarning: find_element_by_xpath is deprecated. Please use find_element(by=By.XPATH, value=xpath) instead\n",
      "  driver.find_element_by_xpath(\"//button[@type='submit']\").click()\n"
     ]
    }
   ],
   "source": [
    "\n",
    "driver.find_element_by_id(\"username\").send_keys(username)\n",
    "# find password input field and insert password as well\n",
    "driver.find_element_by_id(\"password\").send_keys(password)\n",
    "# Log in dude\n",
    "driver.find_element_by_xpath(\"//button[@type='submit']\").click()"
   ]
  },
  {
   "cell_type": "markdown",
   "metadata": {},
   "source": [
    "## Lets crack a profile open\n",
    "Starting with mine ofcourse"
   ]
  },
  {
   "cell_type": "code",
   "execution_count": 125,
   "metadata": {},
   "outputs": [],
   "source": [
    "driver.get('https://www.linkedin.com/in/shivam-soni-b46992148/')\n"
   ]
  },
  {
   "cell_type": "code",
   "execution_count": 126,
   "metadata": {},
   "outputs": [],
   "source": [
    "# wait for the page to load\n",
    "\n",
    "import time\n",
    "start = time.time()\n",
    "\n",
    "#Scroll through the page to load all data\n",
    "scrollVal = 0\n",
    "\n",
    "while True:\n",
    "    driver.execute_script(\"window.scrollTo(0, document.body.scrollHeight);\")\n",
    "    scrollVal += 1000\n",
    "    if scrollVal > 10000:\n",
    "        break"
   ]
  },
  {
   "cell_type": "code",
   "execution_count": 18,
   "metadata": {},
   "outputs": [],
   "source": [
    "from bs4 import BeautifulSoup as bs\n",
    "\n",
    "src = driver.page_source\n",
    "soup = bs(src, 'html.parser')\n",
    "profile = soup.find(id='profile-content').find(id='main')"
   ]
  },
  {
   "cell_type": "code",
   "execution_count": 19,
   "metadata": {},
   "outputs": [
    {
     "name": "stdout",
     "output_type": "stream",
     "text": [
      "SHIVAM SONI\n",
      "['Audio AI Engineer @HCL ', ' M.Tech @IIT BBSR ', ' R&D Specialist ', ' Speech & Non-Speech Recognition ', ' Audio Processing ', ' Speech Assistant ', ' Audio Event Detection ', ' Machine & Deep Learning ', ' NLP ', ' Data Science ', ' Kaldi I']\n",
      "HCL Technologies\n",
      "Indian Institute of Technology Bhubaneswar (IIT Bhubaneswar)\n",
      "Noida, Uttar Pradesh, India\n"
     ]
    }
   ],
   "source": [
    "left_panel = profile.find('div',{'class': 'pv-text-details__left-panel'})\n",
    "right_panel = profile.find('ul',{'class': 'pv-text-details__right-panel'})\n",
    "loc_panel = profile.find('div',{'class': 'pb2 pv-text-details__left-panel'})\n",
    "\n",
    "\n",
    "name = left_panel.find('h1').get_text().strip() # get the name\n",
    "try:\n",
    "    description = left_panel.find('div',{'class': 'text-body-medium break-words'}).get_text().strip() # get the description\n",
    "except:\n",
    "    description = \"No description\"\n",
    "print(name)\n",
    "tags = description.split('|')\n",
    "print(tags)\n",
    "try:\n",
    "    workplace = right_panel.find('div',{'aria-label': 'Current company'}).get_text().strip() # get the workplace\n",
    "except:\n",
    "    workplace = 'Not Available'\n",
    "print(workplace)\n",
    "try:\n",
    "    education = right_panel.find('div',{'aria-label': 'Education'}).get_text().strip() # get the education\n",
    "except:\n",
    "    education = 'Not Available'\n",
    "print(education)\n",
    "try:\n",
    "    location = loc_panel.find('span',{'class': 'text-body-small inline t-black--light break-words'}).get_text().strip() # get the location\n",
    "except:\n",
    "    location = 'Not Available'\n",
    "print(location)"
   ]
  },
  {
   "cell_type": "markdown",
   "metadata": {},
   "source": [
    "## We started gettin the data now\n",
    "Lets go get more, the about section"
   ]
  },
  {
   "cell_type": "code",
   "execution_count": 77,
   "metadata": {},
   "outputs": [
    {
     "name": "stdout",
     "output_type": "stream",
     "text": [
      "-------------------------------------------------- Mentorship ---------------------------------- -------------------------------------------------------- I love to guide students and graduates regarding their careers, research, and college selection. Drop me a message for any kind of assistance. ---------------------------------------------------Difference Maker----------------------------------------------------------------------------------A passionate \"Audio AI Research Engineer\" with an M.Tech degree in \"Signal Processing\" from \"IIT Bhubaneswar\".  Currently, I am working as an Audio AI  Engineer at the HCL Engineering R&D Services.# Potential Areas/ Area of Interest:----------   ---------------  ----------     ---------------- Hands-on Experience ------------------     ------------------   -------------------------1. Digital Signal Processing2. Speech Processing 3. Audio Processing4. Speech Analytics5. Automatic Speech Recognition (ASR) (Kaldi: Aspire, CSJ, Librispeech, Minilibrispeech, Timit)6. Speech Emotion Detection (Datasets: SAVEE,  EmoDB, RAVDESS )7. Speech Assistant (Japanese, US English, Indian English)8. Keyword Detection9. Slurred Speech Recognition10. Cough Detection11. Audio Classification (Aircraft, Animals, BabyCry, Construction, Music Gener, Rain, Thunderstorm, Vehicles)12. Environmental Sound Detection/ Audio Event Detection13. Article Summarization (TextRank, LexRank, LSA, T5, BERT, GPT-2, BART )14. Sentiment Analysis (BERT, Roberta)--------     ------------------ ------------------ --------- Not touched But Interested----------- ------------------  ------------  ----------1. Speaker Diarization2. Speaker Variability3. Whisper Detection4. Acoustic Scene Recognition5. Music AI6. Voice Cloning7. Offensive Language Identification8. Hate Speech Detection9. Irony Detection10. Health condition detection based on speech11. Language Identification12. Machines health detection based on its sound13. Speech to speech translation14. Lip syncing in translation15. Multilingual Machine Translation-------------------------------------------------- Mentorship ---------------------------------- --------------------------------------------------------\n",
      " I love to guide students and graduates regarding their careers, research, and college selection. Drop me a message for any kind of assistance.  \n",
      "\n",
      "---------------------------------------------------Difference Maker----------------------------------------------------------------------------------\n",
      "A passionate \"Audio AI Research Engineer\" with an M.Tech degree in \"Signal Processing\" from \"IIT Bhubaneswar\".  Currently, I am working as an Audio AI  Engineer at the HCL Engineering R&D Services.\n",
      "\n",
      "# Potential Areas/ Area of Interest:\n",
      "----------   ---------------  ----------     ---------------- Hands-on Experience ------------------     ------------------   -------------------------\n",
      "1. Digital Signal Processing\n",
      "2. Speech Processing \n",
      "3. Audio Processing\n",
      "4. Speech Analytics\n",
      "5. Automatic Speech Recognition (ASR) (Kaldi: Aspire, CSJ, Librispeech, Minilibrispeech, Timit)\n",
      "6. Speech Emotion Detection (Datasets: SAVEE,  EmoDB, RAVDESS )\n",
      "7. Speech Assistant (Japanese, US English, Indian English)\n",
      "8. Keyword Detection\n",
      "9. Slurred Speech Recognition\n",
      "10. Cough Detection\n",
      "11. Audio Classification (Aircraft, Animals, BabyCry, Construction, Music Gener, Rain, Thunderstorm, Vehicles)\n",
      "12. Environmental Sound Detection/ Audio Event Detection\n",
      "13. Article Summarization (TextRank, LexRank, LSA, T5, BERT, GPT-2, BART )\n",
      "14. Sentiment Analysis (BERT, Roberta)\n",
      "\n",
      "--------     ------------------ ------------------ --------- Not touched But Interested----------- ------------------  ------------  ----------\n",
      "1. Speaker Diarization\n",
      "2. Speaker Variability\n",
      "3. Whisper Detection\n",
      "4. Acoustic Scene Recognition\n",
      "5. Music AI\n",
      "6. Voice Cloning\n",
      "7. Offensive Language Identification\n",
      "8. Hate Speech Detection\n",
      "9. Irony Detection\n",
      "10. Health condition detection based on speech\n",
      "11. Language Identification\n",
      "12. Machines health detection based on its sound\n",
      "13. Speech to speech translation\n",
      "14. Lip syncing in translation\n",
      "15. Multilingual Machine Translation\n"
     ]
    }
   ],
   "source": [
    "about = profile.find('div',{'id':'about'}).parent\n",
    "about_text = about.find('div',{'class': 'inline-show-more-text inline-show-more-text--is-collapsed'}).get_text().strip()\n",
    "print(about_text)\n"
   ]
  },
  {
   "cell_type": "markdown",
   "metadata": {},
   "source": [
    "Moving on to experience"
   ]
  },
  {
   "cell_type": "code",
   "execution_count": 78,
   "metadata": {},
   "outputs": [
    {
     "data": {
      "text/plain": [
       "[{'position': {'title': 'Senior Software Engineer',\n",
       "   'position_type': 'Full-time',\n",
       "   'description': 'I am currently working in Speech and Audio AI domain in the HCL Technologies R&D lab. My key responsibilities are audio/speech engine architecture designing, innovating novel audio algorithms, proposing innovative machine learning solutions, identify key research questions, defining data requirements, data collection, data preparation for AI models, project documentation, ASR training on Kaldi speech engine,   performance tuning, acceptance testing, analyzing results, deploying solutions, reading current research papers, publish the result (White paper and research paper writing), and mentoring junior members.My most recent work includes Audio event classification, Educational Videos Summarization, Sentiment Analysis, Cough Classification, Japanese Slurred Voice Assistant for Elderly people, Limited Vocab Indian English Voice Assistant for Touchfree Elevator,  Speech-based Emotion Recognition, Medical Vocab US accent ASR.I am currently working in Speech and Audio AI domain in the HCL Technologies R&D lab. My key responsibilities are audio/speech engine architecture designing, innovating novel audio algorithms, proposing innovative machine learning solutions, identify key research questions, defining data requirements, data collection, data preparation for AI models, project documentation, ASR training on Kaldi speech engine,   performance tuning, acceptance testing, analyzing results, deploying solutions, reading current research papers, publish the result (White paper and research paper writing), and mentoring junior members.\\n\\nMy most recent work includes Audio event classification, Educational Videos Summarization, Sentiment Analysis, Cough Classification, Japanese Slurred Voice Assistant for Elderly people, Limited Vocab Indian English Voice Assistant for Touchfree Elevator,  Speech-based Emotion Recognition, Medical Vocab US accent ASR.\\n\\n\\n\\n\\n\\n\\n\\n\\n\\n\\n \\n\\n\\n\\n\\n\\n\\n\\n\\n \\n\\n\\n\\n\\nShivam_Resume_HCL_2.5years_2022.pdfShivam_Resume_HCL_2.5years_2022.pdf'},\n",
       "  'company/institute': 'HCL Technologies',\n",
       "  'total_duration': 'Aug 2019 - Present',\n",
       "  'location': 'Noida Area, India'},\n",
       " {'position': [{'title': 'Teaching Assistant',\n",
       "    'position_type': 'Not Available',\n",
       "    'duration': 'Jan 2019 - Apr 2019'},\n",
       "   {'title': 'Teaching Assistant',\n",
       "    'position_type': 'Not Available',\n",
       "    'duration': 'Jan 2019 - Apr 2019'},\n",
       "   {'title': 'Teaching Assistant',\n",
       "    'position_type': 'Not Available',\n",
       "    'duration': 'Jan 2019 - Apr 2019'}],\n",
       "  'company/institute': 'IIT Bhubaneswar',\n",
       "  'total_duration': '1 yr 9 mos',\n",
       "  'location': 'Jan 2019 - Apr 2019 · 4 mos',\n",
       "  'description': 'Teaching Assistant under Dr. Pravas Ranjan Sahu. Associate Professor. School of Electrical Sciences, IIT Bhubaneswar.Subjects :  Advance Communication Engineering,  Digital Communication NetworkTeaching Assistant under Dr. Pravas Ranjan Sahu. Associate Professor. School of Electrical Sciences, IIT Bhubaneswar.\\nSubjects :  Advance Communication Engineering,  Digital Communication Network'},\n",
       " {'position': {'title': 'Internship',\n",
       "   'position_type': 'Not Available',\n",
       "   'description': 'I completed two courses under BSNL-AICTE Employability Enhancement Training Programme1. BSNL Silver Certified Engineer2. BSNL Gold Certified EngineerI completed two courses under BSNL-AICTE Employability Enhancement Training Programme\\n1. BSNL Silver Certified Engineer\\n2. BSNL Gold Certified Engineer'},\n",
       "  'company/institute': 'Bharat Sanchar Nigam Limited',\n",
       "  'total_duration': 'Jul 2014 - Jul 2015',\n",
       "  'location': 'Lucknow Area, India'}]"
      ]
     },
     "execution_count": 78,
     "metadata": {},
     "output_type": "execute_result"
    }
   ],
   "source": [
    "\n",
    "experience = profile.find('div',{'id':'experience'}).parent\n",
    "\n",
    "exp_list = []\n",
    "for li in experience.find('ul').find_all('li',recursive=False):\n",
    "    exp = {}\n",
    "    try:\n",
    "        exp['position'] = {}\n",
    "        exp['position']['title'] = li.find('span',{'class':'mr1 t-bold'}).find('span',{'aria-hidden':'true'}).get_text().strip()\n",
    "        subtitle = li.find('span',{'class':'t-14 t-normal'}).find('span',{'aria-hidden':'true'}).get_text().strip().split(' · ')\n",
    "\n",
    "        exp['company/institute'] = subtitle[0]\n",
    "        try:\n",
    "            exp['position']['position_type'] = subtitle[1]\n",
    "        except:\n",
    "            exp['position']['position_type'] = 'Not Available'\n",
    "        time_n_place = li.find_all('span',{'class':'t-14 t-normal t-black--light'})\n",
    "        exp['total_duration'] = time_n_place[0].find('span',{'aria-hidden':'true'}).get_text().strip().split(' · ')[0]\n",
    "        try:\n",
    "            exp['location'] = time_n_place[1].find('span',{'aria-hidden':'true'}).get_text().strip()\n",
    "        except:\n",
    "            exp['location'] = 'Not Available'\n",
    "        try:\n",
    "            exp['position']['description'] = li.find('div',{'class':'pvs-list__outer-container'}).get_text().strip()\n",
    "        except:\n",
    "            pass\n",
    "    except:\n",
    "        exp['company/institute'] = li.find('span',{'class':'mr1 hoverable-link-text t-bold'}).find('span',{'aria-hidden':'true'}).get_text().strip()\n",
    "        exp['total_duration'] = li.find('span',{'class':'t-14 t-normal'}).find('span',{'aria-hidden':'true'}).get_text().strip()\n",
    "        try:\n",
    "            exp['location'] = li.find('span',{'class':'t-14 t-normal t-black--light'}).find('span',{'aria-hidden':'true'}).get_text().strip()\n",
    "        except:\n",
    "            pass\n",
    "        exp['position'] = []\n",
    "        for li2 in li.find('ul',{'class':'pvs-list'}).find_all('li',recursive=False):\n",
    "            position = {}\n",
    "            position['title'] = li2.find('span',{'class':'mr1 hoverable-link-text t-bold'}).find('span',{'aria-hidden':'true'}).get_text().strip()\n",
    "            try:\n",
    "                position['position_type'] = li2.find('span',{'class':'t-14 t-normal'}).find('span',{'aria-hidden':'true'}).get_text().strip()\n",
    "            except:\n",
    "                position['position_type'] = 'Not Available'\n",
    "            time_n_place = li.find_all('span',{'class':'t-14 t-normal t-black--light'})\n",
    "            try:\n",
    "                position['duration'] = time_n_place[0].find('span',{'aria-hidden':'true'}).get_text().strip().split(' · ')[0]\n",
    "            except:\n",
    "                position['duration'] = 'Not Available'\n",
    "            try:\n",
    "                exp['description'] = li2.find('div',{'class':'pvs-list__outer-container'}).get_text().strip()\n",
    "            except:\n",
    "                pass\n",
    "            exp['position'].append(position)\n",
    "    exp_list.append(exp)\n",
    "exp_list"
   ]
  },
  {
   "cell_type": "markdown",
   "metadata": {},
   "source": [
    "Lets see recommendations now"
   ]
  },
  {
   "cell_type": "code",
   "execution_count": 20,
   "metadata": {},
   "outputs": [
    {
     "data": {
      "text/plain": [
       "[{'giver': 'Simhadri Vadrevu',\n",
       "  'desc': 'He was working in the Automatic Audio Event Recognition project and developed various Schemes for Context-Aware Audio Computing Devices. He helped me and other lab members in the department whenever we had problems in the model design. I recall that he had very few related audio recordings and improper model specifications for audio event recognition but he put tremendous effort to develop the Schemes for Context-Aware Audio Computing Devices. He is skillful in his thinking and finding a solution to any problem. He has worked in many tools and is proficient in Matlab, python, c. He is also interested in doing research in Matlab. His involvement with other research scholars investigating different problems related to signal processing is phenomenal. He is a very talented and dedicated person. I strongly recommend him for a Research engineer position. His ethics and commitment towards work will be an asset to any company.'}]"
      ]
     },
     "execution_count": 20,
     "metadata": {},
     "output_type": "execute_result"
    }
   ],
   "source": [
    "reccomendationList = profile.find('div',{'id':'recommendations'}).parent\n",
    "recc_list = []\n",
    "\n",
    "for li in reccomendationList.find('ul').find_all('li',recursive=False):\n",
    "    recc = {}\n",
    "    recc['giver'] = li.find('div',{'class':'display-flex flex-column full-width align-self-center'}).find('span',{'class':'mr1 hoverable-link-text t-bold'}).find('span',{'aria-hidden':'true'}).get_text().strip()\n",
    "    recc['desc'] = li.find('div',{'class':'pvs-list__outer-container'}).find('span',{'aria-hidden':'true'}).get_text().strip()\n",
    "    recc_list.append(recc)\n",
    "\n",
    "recc_list"
   ]
  },
  {
   "cell_type": "markdown",
   "metadata": {},
   "source": [
    "### Lets get them awards finally"
   ]
  },
  {
   "cell_type": "code",
   "execution_count": 128,
   "metadata": {},
   "outputs": [
    {
     "data": {
      "text/plain": [
       "[{'title': 'AICTE PG Scholarship',\n",
       "  'issuer': 'All India Council for Technical Education (AICTE)',\n",
       "  'date': 'Sep 2017'},\n",
       " {'title': 'Certificate of Merit',\n",
       "  'issuer': 'Sri Ramswaroop Memorial College of Engineering and Management Lucknow',\n",
       "  'date': 'Jul 2016'},\n",
       " {'title': 'Certificate of Appreciation',\n",
       "  'issuer': 'Sri Ramswaroop Memorial College of Engineering and Management Lucknow',\n",
       "  'date': 'Sep 2014'}]"
      ]
     },
     "execution_count": 128,
     "metadata": {},
     "output_type": "execute_result"
    }
   ],
   "source": [
    "awards = profile.find('div',{'id':'honors_and_awards'}).parent\n",
    "awards_list = []\n",
    "for li in awards.find('ul').find_all('li',recursive=False):\n",
    "    award = {}\n",
    "    award['title'] = li.find('div',{'class':'display-flex align-items-center'}).find('span',{'aria-hidden':'true'}).get_text().strip()\n",
    "    issuer_n_date = li.find('span',{'class':'t-14 t-normal'}).find('span',{'aria-hidden':'true'}).get_text().strip().replace('Issued by ','').split(' · ')\n",
    "    award['issuer'] = issuer_n_date[0]\n",
    "    award['date'] = issuer_n_date[1]\n",
    "    awards_list.append(award)\n",
    "awards_list"
   ]
  },
  {
   "cell_type": "code",
   "execution_count": 42,
   "metadata": {},
   "outputs": [
    {
     "data": {
      "text/plain": [
       "['Data Analytics', 'Python (Programming Language)', 'C++']"
      ]
     },
     "execution_count": 42,
     "metadata": {},
     "output_type": "execute_result"
    }
   ],
   "source": [
    "skills = profile.find('div',{'id':'skills'}).parent\n",
    "skills_list = []\n",
    "for li in skills.find('ul').find_all('li',recursive=False):\n",
    "    skill = {}\n",
    "    skill['name'] = li.find('span',{'class':'mr1 t-bold'}).find('span',{'aria-hidden':'true'}).get_text().strip()\n",
    "    skill['endorsers'] = []\n",
    "    \n",
    "    skills_list.append(skill)\n",
    "skills_list\n",
    "    "
   ]
  },
  {
   "cell_type": "markdown",
   "metadata": {},
   "source": [
    "And the education section"
   ]
  },
  {
   "cell_type": "code",
   "execution_count": 43,
   "metadata": {},
   "outputs": [
    {
     "data": {
      "text/plain": [
       "[{'institute': 'Indian Institute of Technology Bhubaneswar (IIT Bhubaneswar)',\n",
       "  'degree': 'Bachelor of Technology - B.Tech',\n",
       "  'time_period': '2018 - 2022'}]"
      ]
     },
     "execution_count": 43,
     "metadata": {},
     "output_type": "execute_result"
    }
   ],
   "source": [
    "education = profile.find('div',{'id':'education'}).parent\n",
    "\n",
    "edu_list = []\n",
    "for li in education.find('ul').find_all('li',recursive=False):\n",
    "    edu = {}\n",
    "    edu['institute'] = li.find('span',{'class':'mr1 hoverable-link-text t-bold'}).find('span',{'aria-hidden':'true'}).get_text().strip()\n",
    "    edu['degree'] = li.find('span',{'class':'t-14 t-normal'}).find('span',{'aria-hidden':'true'}).get_text().strip()\n",
    "    edu['time_period'] = li.find('span',{'class':'t-14 t-normal t-black--light'}).find('span',{'aria-hidden':'true'}).get_text().strip()\n",
    "    edu_list.append(edu)\n",
    "edu_list"
   ]
  },
  {
   "cell_type": "code",
   "execution_count": 129,
   "metadata": {},
   "outputs": [
    {
     "data": {
      "text/plain": [
       "[{'name': 'LISPRUL-2022 (Linguistic Issues in Speech Processing Research of Under-Resourced Languages)',\n",
       "  'issuer': 'Student Mentorship Program, IIT Dharwad'},\n",
       " {'name': 'RECENT TRENDS IN SPEECH ASSISTIVE TECHNOLOGIES',\n",
       "  'issuer': 'Sri Sivasubramaniya Nadar College Of Engineering'},\n",
       " {'name': 'RESEARCH ACCELERATOR',\n",
       "  'issuer': 'Admissions - Shiv Nadar University, Delhi - NCR'}]"
      ]
     },
     "execution_count": 129,
     "metadata": {},
     "output_type": "execute_result"
    }
   ],
   "source": [
    "certifications = profile.find('div',{'id':'licenses_and_certifications'}).parent\n",
    "cert_list = []\n",
    "\n",
    "for li in certifications.find('ul').find_all('li',recursive=False):\n",
    "    cert = {}\n",
    "    try:\n",
    "        try:\n",
    "            cert['name'] = li.find('span',{'class':'mr1 hoverable-link-text t-bold'}).find('span',{'aria-hidden':'true'}).get_text().strip()\n",
    "        except:\n",
    "            cert['name'] = li.find('span',{'class':'mr1 t-bold'}).find('span',{'aria-hidden':'true'}).get_text().strip()\n",
    "        cert['issuer'] = li.find('span',{'class':'t-14 t-normal'}).find('span',{'aria-hidden':'true'}).get_text().strip()\n",
    "        cert_list.append(cert)\n",
    "    except:\n",
    "        pass\n",
    "cert_list"
   ]
  },
  {
   "cell_type": "markdown",
   "metadata": {},
   "source": [
    "## NOW Lets see how to use GUI to import files and stuff"
   ]
  },
  {
   "cell_type": "code",
   "execution_count": null,
   "metadata": {},
   "outputs": [],
   "source": [
    "import tkinter as tk\n",
    "from tkinter import filedialog\n",
    "root = tk.Tk()\n",
    "root.withdraw()\n",
    "file_path = None\n",
    "while not file_path:\n",
    "    try:\n",
    "        file_path = filedialog.askopenfilename()\n",
    "    except:\n",
    "        pass\n",
    "print(file_path)"
   ]
  },
  {
   "cell_type": "code",
   "execution_count": null,
   "metadata": {},
   "outputs": [],
   "source": [
    "from tqdm import tqdm\n",
    "for line in tqdm(range(100000000),desc=\"Scraping data\"):\n",
    "    pass"
   ]
  },
  {
   "cell_type": "code",
   "execution_count": null,
   "metadata": {},
   "outputs": [],
   "source": [
    "import scraper\n",
    "\n",
    "prof = scraper.scrape_profile('https://www.linkedin.com/in/sai-krishna-jupally-b7050177/',driver)\n",
    "prof"
   ]
  },
  {
   "cell_type": "markdown",
   "metadata": {},
   "source": [
    "## Lets try multiprocessing now\n",
    "Lets run two operations in parallel"
   ]
  },
  {
   "cell_type": "code",
   "execution_count": null,
   "metadata": {},
   "outputs": [],
   "source": [
    "import multiprocessing\n",
    "\n",
    "def init_driver():\n",
    "    driver = webdriver.Chrome('./chromedriver')\n",
    "    driver.get('https://www.linkedin.com/login')\n",
    "    driver.find_element_by_id(\"username\").send_keys(username)\n",
    "    driver.find_element_by_id(\"password\").send_keys(password)\n",
    "    driver.find_element_by_xpath(\"//button[@type='submit']\").click()\n",
    "\n",
    "P1 = multiprocessing.Process(target=init_driver,args=())\n",
    "P2 = multiprocessing.Process(target=init_driver,args=())\n",
    "P3 = multiprocessing.Process(target=init_driver,args=())\n",
    "P4 = multiprocessing.Process(target=init_driver,args=())\n",
    "P1.start()\n",
    "P2.start()\n",
    "P3.start()\n",
    "P4.start()\n",
    "P1.join()\n",
    "P2.join()\n",
    "P3.join()\n",
    "P4.join()"
   ]
  },
  {
   "cell_type": "code",
   "execution_count": null,
   "metadata": {},
   "outputs": [],
   "source": [
    "import multiprocessing\n",
    "def split(lists, process_count):\n",
    "    k, m = divmod(len(lists), process_count)\n",
    "    return (lists[i*k+min(i, m):(i+1)*k+min(i+1, m)] for i in range(process_count))\n",
    "\n",
    "threads = multiprocessing.cpu_count()\n",
    "urls = [12,124,3256,864,12,643,3856,354547,57,54,547,747,2,57,547,547,54,54,54754,5475,56,8,5427,547,472,547,547,54,547,4757,54,54,547,547]\n",
    "print(len(urls))\n",
    "chunks = split(urls,threads//2)\n",
    "\n",
    "chunks = list(chunks)\n",
    "chunks\n"
   ]
  },
  {
   "cell_type": "code",
   "execution_count": null,
   "metadata": {},
   "outputs": [],
   "source": [
    "str = 'https://www.linkedin.com/in/omkar-sawant-836638187/'\n",
    "parts = str.split('/')\n",
    "while \"\" in parts:\n",
    "    parts.remove(\"\")\n",
    "print(parts)"
   ]
  },
  {
   "cell_type": "code",
   "execution_count": null,
   "metadata": {},
   "outputs": [],
   "source": [
    "multiprocessing.cpu_count()"
   ]
  },
  {
   "cell_type": "code",
   "execution_count": 23,
   "metadata": {},
   "outputs": [
    {
     "data": {
      "text/plain": [
       "'Best 2019/2020 AIAA SATC Professional Paper Award. (Space Habitat Reconfigurability: TESSERAE platform for self-aware assembly)'"
      ]
     },
     "execution_count": 23,
     "metadata": {},
     "output_type": "execute_result"
    }
   ],
   "source": [
    "import pandas as pd\n",
    "\n",
    "df = pd.read_csv('./sample_csv/US_Architect_270_QL.csv')\n",
    "\n",
    "df['Subject Line 1'].iloc[0]"
   ]
  },
  {
   "cell_type": "code",
   "execution_count": 34,
   "metadata": {},
   "outputs": [
    {
     "name": "stderr",
     "output_type": "stream",
     "text": [
      "/tmp/ipykernel_10486/3434684360.py:11: DeprecationWarning: executable_path has been deprecated, please pass in a Service object\n",
      "  driver = webdriver.Chrome('./chromedriver')\n",
      "/tmp/ipykernel_10486/3434684360.py:18: DeprecationWarning: find_element_by_* commands are deprecated. Please use find_element() instead\n",
      "  driver.find_element_by_id(\"username\").send_keys(username)\n",
      "/tmp/ipykernel_10486/3434684360.py:20: DeprecationWarning: find_element_by_* commands are deprecated. Please use find_element() instead\n",
      "  driver.find_element_by_id(\"password\").send_keys(password)\n",
      "/tmp/ipykernel_10486/3434684360.py:22: DeprecationWarning: find_element_by_xpath is deprecated. Please use find_element(by=By.XPATH, value=xpath) instead\n",
      "  driver.find_element_by_xpath(\"//button[@type='submit']\").click()\n"
     ]
    }
   ],
   "source": [
    "from selenium import webdriver\n",
    "from selenium.webdriver.common.keys import Keys\n",
    "from selenium.webdriver.common.by import By\n",
    "from selenium.webdriver.support import expected_conditions as EC\n",
    "from selenium.webdriver.support.ui import WebDriverWait\n",
    "import pandas as pd\n",
    "import pickle\n",
    "\n",
    "    \n",
    "\n",
    "driver = webdriver.Chrome('./chromedriver')\n",
    "driver.get('https://www.linkedin.com/login')\n",
    "\n",
    "username = \"kaushikdey647@gmail.com\"\n",
    "password = \"maihulimkedinka14\"\n",
    "\n",
    "\n",
    "driver.find_element_by_id(\"username\").send_keys(username)\n",
    "# find password input field and insert password as well\n",
    "driver.find_element_by_id(\"password\").send_keys(password)\n",
    "# Log in dude\n",
    "driver.find_element_by_xpath(\"//button[@type='submit']\").click()\n",
    "\n",
    "# pickle.dump( driver.get_cookies() , open(\"cookies.pkl\",\"wb\"))"
   ]
  },
  {
   "cell_type": "code",
   "execution_count": 12,
   "metadata": {},
   "outputs": [
    {
     "name": "stdout",
     "output_type": "stream",
     "text": [
      "429\n"
     ]
    }
   ],
   "source": [
    "from bs4 import BeautifulSoup as bs\n",
    "\n",
    "def is_verification(soup):\n",
    "    if soup.find('title').get_text() == 'Security Verification | LinkedIn':\n",
    "        return True\n",
    "    else:\n",
    "        return False\n"
   ]
  },
  {
   "cell_type": "code",
   "execution_count": 13,
   "metadata": {},
   "outputs": [
    {
     "name": "stdout",
     "output_type": "stream",
     "text": [
      "429\n"
     ]
    }
   ],
   "source": [
    "src = driver.page_source\n",
    "soup = bs(driver.page_source, 'html.parser')\n",
    "if '429' in soup.find('div',{'class':'error-code'}).get_text():\n",
    "    print('429')"
   ]
  },
  {
   "cell_type": "code",
   "execution_count": 14,
   "metadata": {},
   "outputs": [
    {
     "data": {
      "text/plain": [
       "True"
      ]
     },
     "execution_count": 14,
     "metadata": {},
     "output_type": "execute_result"
    }
   ],
   "source": [
    "\n",
    "is_verification(soup)"
   ]
  },
  {
   "cell_type": "code",
   "execution_count": 33,
   "metadata": {},
   "outputs": [
    {
     "name": "stdout",
     "output_type": "stream",
     "text": [
      "False\n"
     ]
    }
   ],
   "source": [
    "import pickle\n",
    "\n",
    "src = driver.page_source\n",
    "soup = bs(src, 'html.parser')\n",
    "print(is_verification(soup))\n",
    "if  is_verification(soup):\n",
    "    #Verify Manually First and wait for prompt\n",
    "    pass\n",
    "else:\n",
    "    pickle.dump(driver.get_cookies() , open(\"cookies.pkl\",\"wb\"))"
   ]
  },
  {
   "cell_type": "code",
   "execution_count": 35,
   "metadata": {},
   "outputs": [],
   "source": [
    "\n",
    "src = driver.page_source\n",
    "soup = bs(src, 'html.parser')\n",
    "if is_verification(soup):\n",
    "    #Verify Manually First and wait for prompt\n",
    "    cookies = pickle.load(open(\"cookies.pkl\", \"rb\"))\n",
    "    for cookie in cookies:\n",
    "        driver.add_cookie(cookie)\n",
    "    driver.get('https://www.linkedin.com/')"
   ]
  },
  {
   "cell_type": "code",
   "execution_count": 45,
   "metadata": {},
   "outputs": [
    {
     "data": {
      "text/plain": [
       "'__main__'"
      ]
     },
     "execution_count": 45,
     "metadata": {},
     "output_type": "execute_result"
    }
   ],
   "source": [
    "__name__"
   ]
  },
  {
   "cell_type": "markdown",
   "metadata": {},
   "source": [
    "## PHASE II\n",
    "Now we use the data collected so far to develop meaningful sentences"
   ]
  },
  {
   "cell_type": "code",
   "execution_count": 1,
   "metadata": {},
   "outputs": [
    {
     "name": "stderr",
     "output_type": "stream",
     "text": [
      "/tmp/ipykernel_10036/2724054809.py:11: DeprecationWarning: executable_path has been deprecated, please pass in a Service object\n",
      "  driver = webdriver.Chrome('./chromedriver')\n"
     ]
    },
    {
     "ename": "WebDriverException",
     "evalue": "Message: 'chromedriver' executable needs to be in PATH. Please see https://chromedriver.chromium.org/home\n",
     "output_type": "error",
     "traceback": [
      "\u001b[0;31m---------------------------------------------------------------------------\u001b[0m",
      "\u001b[0;31mFileNotFoundError\u001b[0m                         Traceback (most recent call last)",
      "File \u001b[0;32m~/Documents/linkedin-scraper/.venv/lib/python3.8/site-packages/selenium/webdriver/common/service.py:71\u001b[0m, in \u001b[0;36mService.start\u001b[0;34m(self)\u001b[0m\n\u001b[1;32m     70\u001b[0m     cmd\u001b[39m.\u001b[39mextend(\u001b[39mself\u001b[39m\u001b[39m.\u001b[39mcommand_line_args())\n\u001b[0;32m---> 71\u001b[0m     \u001b[39mself\u001b[39m\u001b[39m.\u001b[39mprocess \u001b[39m=\u001b[39m subprocess\u001b[39m.\u001b[39;49mPopen(cmd, env\u001b[39m=\u001b[39;49m\u001b[39mself\u001b[39;49m\u001b[39m.\u001b[39;49menv,\n\u001b[1;32m     72\u001b[0m                                     close_fds\u001b[39m=\u001b[39;49msystem() \u001b[39m!=\u001b[39;49m \u001b[39m'\u001b[39;49m\u001b[39mWindows\u001b[39;49m\u001b[39m'\u001b[39;49m,\n\u001b[1;32m     73\u001b[0m                                     stdout\u001b[39m=\u001b[39;49m\u001b[39mself\u001b[39;49m\u001b[39m.\u001b[39;49mlog_file,\n\u001b[1;32m     74\u001b[0m                                     stderr\u001b[39m=\u001b[39;49m\u001b[39mself\u001b[39;49m\u001b[39m.\u001b[39;49mlog_file,\n\u001b[1;32m     75\u001b[0m                                     stdin\u001b[39m=\u001b[39;49mPIPE,\n\u001b[1;32m     76\u001b[0m                                     creationflags\u001b[39m=\u001b[39;49m\u001b[39mself\u001b[39;49m\u001b[39m.\u001b[39;49mcreationflags)\n\u001b[1;32m     77\u001b[0m \u001b[39mexcept\u001b[39;00m \u001b[39mTypeError\u001b[39;00m:\n",
      "File \u001b[0;32m/usr/lib/python3.8/subprocess.py:858\u001b[0m, in \u001b[0;36mPopen.__init__\u001b[0;34m(self, args, bufsize, executable, stdin, stdout, stderr, preexec_fn, close_fds, shell, cwd, env, universal_newlines, startupinfo, creationflags, restore_signals, start_new_session, pass_fds, encoding, errors, text)\u001b[0m\n\u001b[1;32m    855\u001b[0m             \u001b[39mself\u001b[39m\u001b[39m.\u001b[39mstderr \u001b[39m=\u001b[39m io\u001b[39m.\u001b[39mTextIOWrapper(\u001b[39mself\u001b[39m\u001b[39m.\u001b[39mstderr,\n\u001b[1;32m    856\u001b[0m                     encoding\u001b[39m=\u001b[39mencoding, errors\u001b[39m=\u001b[39merrors)\n\u001b[0;32m--> 858\u001b[0m     \u001b[39mself\u001b[39;49m\u001b[39m.\u001b[39;49m_execute_child(args, executable, preexec_fn, close_fds,\n\u001b[1;32m    859\u001b[0m                         pass_fds, cwd, env,\n\u001b[1;32m    860\u001b[0m                         startupinfo, creationflags, shell,\n\u001b[1;32m    861\u001b[0m                         p2cread, p2cwrite,\n\u001b[1;32m    862\u001b[0m                         c2pread, c2pwrite,\n\u001b[1;32m    863\u001b[0m                         errread, errwrite,\n\u001b[1;32m    864\u001b[0m                         restore_signals, start_new_session)\n\u001b[1;32m    865\u001b[0m \u001b[39mexcept\u001b[39;00m:\n\u001b[1;32m    866\u001b[0m     \u001b[39m# Cleanup if the child failed starting.\u001b[39;00m\n",
      "File \u001b[0;32m/usr/lib/python3.8/subprocess.py:1704\u001b[0m, in \u001b[0;36mPopen._execute_child\u001b[0;34m(self, args, executable, preexec_fn, close_fds, pass_fds, cwd, env, startupinfo, creationflags, shell, p2cread, p2cwrite, c2pread, c2pwrite, errread, errwrite, restore_signals, start_new_session)\u001b[0m\n\u001b[1;32m   1703\u001b[0m         err_msg \u001b[39m=\u001b[39m os\u001b[39m.\u001b[39mstrerror(errno_num)\n\u001b[0;32m-> 1704\u001b[0m     \u001b[39mraise\u001b[39;00m child_exception_type(errno_num, err_msg, err_filename)\n\u001b[1;32m   1705\u001b[0m \u001b[39mraise\u001b[39;00m child_exception_type(err_msg)\n",
      "\u001b[0;31mFileNotFoundError\u001b[0m: [Errno 2] No such file or directory: './chromedriver'",
      "\nDuring handling of the above exception, another exception occurred:\n",
      "\u001b[0;31mWebDriverException\u001b[0m                        Traceback (most recent call last)",
      "\u001b[1;32m/home/kaydee647/Documents/linkedin-scraper/notebooks/process.ipynb Cell 44'\u001b[0m in \u001b[0;36m<cell line: 11>\u001b[0;34m()\u001b[0m\n\u001b[1;32m      <a href='vscode-notebook-cell:/home/kaydee647/Documents/linkedin-scraper/notebooks/process.ipynb#ch0000043?line=5'>6</a>\u001b[0m \u001b[39mimport\u001b[39;00m \u001b[39mpandas\u001b[39;00m \u001b[39mas\u001b[39;00m \u001b[39mpd\u001b[39;00m\n\u001b[1;32m      <a href='vscode-notebook-cell:/home/kaydee647/Documents/linkedin-scraper/notebooks/process.ipynb#ch0000043?line=6'>7</a>\u001b[0m \u001b[39mimport\u001b[39;00m \u001b[39mpickle\u001b[39;00m\n\u001b[0;32m---> <a href='vscode-notebook-cell:/home/kaydee647/Documents/linkedin-scraper/notebooks/process.ipynb#ch0000043?line=10'>11</a>\u001b[0m driver \u001b[39m=\u001b[39m webdriver\u001b[39m.\u001b[39;49mChrome(\u001b[39m'\u001b[39;49m\u001b[39m./chromedriver\u001b[39;49m\u001b[39m'\u001b[39;49m)\n\u001b[1;32m     <a href='vscode-notebook-cell:/home/kaydee647/Documents/linkedin-scraper/notebooks/process.ipynb#ch0000043?line=11'>12</a>\u001b[0m driver\u001b[39m.\u001b[39mget(\u001b[39m'\u001b[39m\u001b[39mhttps://www.linkedin.com/login\u001b[39m\u001b[39m'\u001b[39m)\n\u001b[1;32m     <a href='vscode-notebook-cell:/home/kaydee647/Documents/linkedin-scraper/notebooks/process.ipynb#ch0000043?line=13'>14</a>\u001b[0m username \u001b[39m=\u001b[39m \u001b[39m\"\u001b[39m\u001b[39mkaushikdey647@gmail.com\u001b[39m\u001b[39m\"\u001b[39m\n",
      "File \u001b[0;32m~/Documents/linkedin-scraper/.venv/lib/python3.8/site-packages/selenium/webdriver/chrome/webdriver.py:70\u001b[0m, in \u001b[0;36mWebDriver.__init__\u001b[0;34m(self, executable_path, port, options, service_args, desired_capabilities, service_log_path, chrome_options, service, keep_alive)\u001b[0m\n\u001b[1;32m     67\u001b[0m \u001b[39mif\u001b[39;00m \u001b[39mnot\u001b[39;00m service:\n\u001b[1;32m     68\u001b[0m     service \u001b[39m=\u001b[39m Service(executable_path, port, service_args, service_log_path)\n\u001b[0;32m---> 70\u001b[0m \u001b[39msuper\u001b[39;49m(WebDriver, \u001b[39mself\u001b[39;49m)\u001b[39m.\u001b[39;49m\u001b[39m__init__\u001b[39;49m(DesiredCapabilities\u001b[39m.\u001b[39;49mCHROME[\u001b[39m'\u001b[39;49m\u001b[39mbrowserName\u001b[39;49m\u001b[39m'\u001b[39;49m], \u001b[39m\"\u001b[39;49m\u001b[39mgoog\u001b[39;49m\u001b[39m\"\u001b[39;49m,\n\u001b[1;32m     71\u001b[0m                                 port, options,\n\u001b[1;32m     72\u001b[0m                                 service_args, desired_capabilities,\n\u001b[1;32m     73\u001b[0m                                 service_log_path, service, keep_alive)\n",
      "File \u001b[0;32m~/Documents/linkedin-scraper/.venv/lib/python3.8/site-packages/selenium/webdriver/chromium/webdriver.py:89\u001b[0m, in \u001b[0;36mChromiumDriver.__init__\u001b[0;34m(self, browser_name, vendor_prefix, port, options, service_args, desired_capabilities, service_log_path, service, keep_alive)\u001b[0m\n\u001b[1;32m     86\u001b[0m     \u001b[39mraise\u001b[39;00m \u001b[39mAttributeError\u001b[39;00m(\u001b[39m'\u001b[39m\u001b[39mservice cannot be None\u001b[39m\u001b[39m'\u001b[39m)\n\u001b[1;32m     88\u001b[0m \u001b[39mself\u001b[39m\u001b[39m.\u001b[39mservice \u001b[39m=\u001b[39m service\n\u001b[0;32m---> 89\u001b[0m \u001b[39mself\u001b[39;49m\u001b[39m.\u001b[39;49mservice\u001b[39m.\u001b[39;49mstart()\n\u001b[1;32m     91\u001b[0m \u001b[39mtry\u001b[39;00m:\n\u001b[1;32m     92\u001b[0m     RemoteWebDriver\u001b[39m.\u001b[39m\u001b[39m__init__\u001b[39m(\n\u001b[1;32m     93\u001b[0m         \u001b[39mself\u001b[39m,\n\u001b[1;32m     94\u001b[0m         command_executor\u001b[39m=\u001b[39mChromiumRemoteConnection(\n\u001b[0;32m   (...)\u001b[0m\n\u001b[1;32m     97\u001b[0m             keep_alive\u001b[39m=\u001b[39mkeep_alive, ignore_proxy\u001b[39m=\u001b[39m_ignore_proxy),\n\u001b[1;32m     98\u001b[0m         options\u001b[39m=\u001b[39moptions)\n",
      "File \u001b[0;32m~/Documents/linkedin-scraper/.venv/lib/python3.8/site-packages/selenium/webdriver/common/service.py:81\u001b[0m, in \u001b[0;36mService.start\u001b[0;34m(self)\u001b[0m\n\u001b[1;32m     79\u001b[0m \u001b[39mexcept\u001b[39;00m \u001b[39mOSError\u001b[39;00m \u001b[39mas\u001b[39;00m err:\n\u001b[1;32m     80\u001b[0m     \u001b[39mif\u001b[39;00m err\u001b[39m.\u001b[39merrno \u001b[39m==\u001b[39m errno\u001b[39m.\u001b[39mENOENT:\n\u001b[0;32m---> 81\u001b[0m         \u001b[39mraise\u001b[39;00m WebDriverException(\n\u001b[1;32m     82\u001b[0m             \u001b[39m\"\u001b[39m\u001b[39m'\u001b[39m\u001b[39m%s\u001b[39;00m\u001b[39m'\u001b[39m\u001b[39m executable needs to be in PATH. \u001b[39m\u001b[39m%s\u001b[39;00m\u001b[39m\"\u001b[39m \u001b[39m%\u001b[39m (\n\u001b[1;32m     83\u001b[0m                 os\u001b[39m.\u001b[39mpath\u001b[39m.\u001b[39mbasename(\u001b[39mself\u001b[39m\u001b[39m.\u001b[39mpath), \u001b[39mself\u001b[39m\u001b[39m.\u001b[39mstart_error_message)\n\u001b[1;32m     84\u001b[0m         )\n\u001b[1;32m     85\u001b[0m     \u001b[39melif\u001b[39;00m err\u001b[39m.\u001b[39merrno \u001b[39m==\u001b[39m errno\u001b[39m.\u001b[39mEACCES:\n\u001b[1;32m     86\u001b[0m         \u001b[39mraise\u001b[39;00m WebDriverException(\n\u001b[1;32m     87\u001b[0m             \u001b[39m\"\u001b[39m\u001b[39m'\u001b[39m\u001b[39m%s\u001b[39;00m\u001b[39m'\u001b[39m\u001b[39m executable may have wrong permissions. \u001b[39m\u001b[39m%s\u001b[39;00m\u001b[39m\"\u001b[39m \u001b[39m%\u001b[39m (\n\u001b[1;32m     88\u001b[0m                 os\u001b[39m.\u001b[39mpath\u001b[39m.\u001b[39mbasename(\u001b[39mself\u001b[39m\u001b[39m.\u001b[39mpath), \u001b[39mself\u001b[39m\u001b[39m.\u001b[39mstart_error_message)\n\u001b[1;32m     89\u001b[0m         )\n",
      "\u001b[0;31mWebDriverException\u001b[0m: Message: 'chromedriver' executable needs to be in PATH. Please see https://chromedriver.chromium.org/home\n"
     ]
    }
   ],
   "source": [
    "from selenium import webdriver\n",
    "from selenium.webdriver.common.keys import Keys\n",
    "from selenium.webdriver.common.by import By\n",
    "from selenium.webdriver.support import expected_conditions as EC\n",
    "from selenium.webdriver.support.ui import WebDriverWait\n",
    "import pandas as pd\n",
    "import pickle\n",
    "\n",
    "    \n",
    "\n",
    "driver = webdriver.Chrome('./chromedriver')\n",
    "driver.get('https://www.linkedin.com/login')\n",
    "\n",
    "username = \"kaushikdey647@gmail.com\"\n",
    "password = \"maihulimkedinka14\"\n",
    "\n",
    "\n",
    "# driver.find_element_by_id(\"username\").send_keys(username)\n",
    "# # find password input field and insert password as well\n",
    "# driver.find_element_by_id(\"password\").send_keys(password)\n",
    "# # Log in dude\n",
    "# driver.find_element_by_xpath(\"//button[@type='submit']\").click()\n"
   ]
  },
  {
   "cell_type": "code",
   "execution_count": 6,
   "metadata": {},
   "outputs": [],
   "source": [
    "import scraper\n",
    "url = 'https://www.linkedin.com/in/shivam-soni-b46992148/'\n",
    "shivam = scraper.scrape_profile(url,driver)"
   ]
  },
  {
   "cell_type": "code",
   "execution_count": 8,
   "metadata": {},
   "outputs": [
    {
     "data": {
      "text/plain": [
       "{'name': 'SHIVAM SONI',\n",
       " 'intro': 'Audio AI Engineer @HCL | M.Tech @IIT BBSR | R&D Specialist | Speech & Non-Speech Recognition | Audio Processing | Speech Assistant | Audio Event Detection | Machine & Deep Learning | NLP | Data Science | Kaldi I',\n",
       " 'intro-education': 'Indian Institute of Technology Bhubaneswar (IIT Bhubaneswar)',\n",
       " 'intro-work': 'HCL Technologies',\n",
       " 'intro-location': 'Noida, Uttar Pradesh, India',\n",
       " 'about': '-------------------------------------------------- Mentorship ---------------------------------- -------------------------------------------------------- I love to guide students and graduates regarding their careers, research, and college selection. Drop me a message for any kind of assistance. ---------------------------------------------------Difference Maker----------------------------------------------------------------------------------A passionate \"Audio AI Research Engineer\" with an M.Tech degree in \"Signal Processing\" from \"IIT Bhubaneswar\".  Currently, I am working as an Audio AI  Engineer at the HCL Engineering R&D Services.# Potential Areas/ Area of Interest:----------   ---------------  ----------     ---------------- Hands-on Experience ------------------     ------------------   -------------------------1. Digital Signal Processing2. Speech Processing 3. Audio Processing4. Speech Analytics5. Automatic Speech Recognition (ASR) (Kaldi: Aspire, CSJ, Librispeech, Minilibrispeech, Timit)6. Speech Emotion Detection (Datasets: SAVEE,  EmoDB, RAVDESS )7. Speech Assistant (Japanese, US English, Indian English)8. Keyword Detection9. Slurred Speech Recognition10. Cough Detection11. Audio Classification (Aircraft, Animals, BabyCry, Construction, Music Gener, Rain, Thunderstorm, Vehicles)12. Environmental Sound Detection/ Audio Event Detection13. Article Summarization (TextRank, LexRank, LSA, T5, BERT, GPT-2, BART )14. Sentiment Analysis (BERT, Roberta)--------     ------------------ ------------------ --------- Not touched But Interested----------- ------------------  ------------  ----------1. Speaker Diarization2. Speaker Variability3. Whisper Detection4. Acoustic Scene Recognition5. Music AI6. Voice Cloning7. Offensive Language Identification8. Hate Speech Detection9. Irony Detection10. Health condition detection based on speech11. Language Identification12. Machines health detection based on its sound13. Speech to speech translation14. Lip syncing in translation15. Multilingual Machine Translation-------------------------------------------------- Mentorship ---------------------------------- --------------------------------------------------------\\n I love to guide students and graduates regarding their careers, research, and college selection. Drop me a message for any kind of assistance.  \\n\\n---------------------------------------------------Difference Maker----------------------------------------------------------------------------------\\nA passionate \"Audio AI Research Engineer\" with an M.Tech degree in \"Signal Processing\" from \"IIT Bhubaneswar\".  Currently, I am working as an Audio AI  Engineer at the HCL Engineering R&D Services.\\n\\n# Potential Areas/ Area of Interest:\\n----------   ---------------  ----------     ---------------- Hands-on Experience ------------------     ------------------   -------------------------\\n1. Digital Signal Processing\\n2. Speech Processing \\n3. Audio Processing\\n4. Speech Analytics\\n5. Automatic Speech Recognition (ASR) (Kaldi: Aspire, CSJ, Librispeech, Minilibrispeech, Timit)\\n6. Speech Emotion Detection (Datasets: SAVEE,  EmoDB, RAVDESS )\\n7. Speech Assistant (Japanese, US English, Indian English)\\n8. Keyword Detection\\n9. Slurred Speech Recognition\\n10. Cough Detection\\n11. Audio Classification (Aircraft, Animals, BabyCry, Construction, Music Gener, Rain, Thunderstorm, Vehicles)\\n12. Environmental Sound Detection/ Audio Event Detection\\n13. Article Summarization (TextRank, LexRank, LSA, T5, BERT, GPT-2, BART )\\n14. Sentiment Analysis (BERT, Roberta)\\n\\n--------     ------------------ ------------------ --------- Not touched But Interested----------- ------------------  ------------  ----------\\n1. Speaker Diarization\\n2. Speaker Variability\\n3. Whisper Detection\\n4. Acoustic Scene Recognition\\n5. Music AI\\n6. Voice Cloning\\n7. Offensive Language Identification\\n8. Hate Speech Detection\\n9. Irony Detection\\n10. Health condition detection based on speech\\n11. Language Identification\\n12. Machines health detection based on its sound\\n13. Speech to speech translation\\n14. Lip syncing in translation\\n15. Multilingual Machine Translation',\n",
       " 'education': [{'institute': 'Indian Institute of Technology Bhubaneswar (IIT Bhubaneswar)',\n",
       "   'degree': 'M.Tech, Electronics and Communications',\n",
       "   'time_period': '2017 - 2019'},\n",
       "  {'institute': 'Dr. A.P.J. Abdul Kalam Technical University',\n",
       "   'degree': 'B.Tech,  Electronics and Communications Engineering',\n",
       "   'time_period': '2012 - 2016'},\n",
       "  {'institute': 'Noor Mohammad Inter College, Zaidpur Distt. Barabanki, UP',\n",
       "   'degree': 'Intermediate, Science',\n",
       "   'time_period': '2009 - 2011'}],\n",
       " 'experience': [{'position': {'title': 'Senior Software Engineer',\n",
       "    'position_type': 'Full-time',\n",
       "    'description': 'I am currently working in Speech and Audio AI domain in the HCL Technologies R&D lab. My key responsibilities are audio/speech engine architecture designing, innovating novel audio algorithms, proposing innovative machine learning solutions, identify key research questions, defining data requirements, data collection, data preparation for AI models, project documentation, ASR training on Kaldi speech engine,   performance tuning, acceptance testing, analyzing results, deploying solutions, reading current research papers, publish the result (White paper and research paper writing), and mentoring junior members.My most recent work includes Audio event classification, Educational Videos Summarization, Sentiment Analysis, Cough Classification, Japanese Slurred Voice Assistant for Elderly people, Limited Vocab Indian English Voice Assistant for Touchfree Elevator,  Speech-based Emotion Recognition, Medical Vocab US accent ASR.I am currently working in Speech and Audio AI domain in the HCL Technologies R&D lab. My key responsibilities are audio/speech engine architecture designing, innovating novel audio algorithms, proposing innovative machine learning solutions, identify key research questions, defining data requirements, data collection, data preparation for AI models, project documentation, ASR training on Kaldi speech engine,   performance tuning, acceptance testing, analyzing results, deploying solutions, reading current research papers, publish the result (White paper and research paper writing), and mentoring junior members.\\n\\nMy most recent work includes Audio event classification, Educational Videos Summarization, Sentiment Analysis, Cough Classification, Japanese Slurred Voice Assistant for Elderly people, Limited Vocab Indian English Voice Assistant for Touchfree Elevator,  Speech-based Emotion Recognition, Medical Vocab US accent ASR.\\n\\n\\n\\n\\n\\n\\n\\n\\n\\n\\n \\n\\n\\n\\n\\n\\n\\n\\n\\n \\n\\n\\n\\n\\nShivam_Resume_HCL_2.5years_2022.pdfShivam_Resume_HCL_2.5years_2022.pdf'},\n",
       "   'company/institute': 'HCL Technologies',\n",
       "   'total_duration': 'Aug 2019 - Present',\n",
       "   'location': 'Noida Area, India'},\n",
       "  {'position': [{'title': 'Teaching Assistant',\n",
       "     'position_type': 'Not Available',\n",
       "     'duration': 'Jan 2019 - Apr 2019'},\n",
       "    {'title': 'Teaching Assistant',\n",
       "     'position_type': 'Not Available',\n",
       "     'duration': 'Jan 2019 - Apr 2019'},\n",
       "    {'title': 'Teaching Assistant',\n",
       "     'position_type': 'Not Available',\n",
       "     'duration': 'Jan 2019 - Apr 2019'}],\n",
       "   'company/institute': 'IIT Bhubaneswar',\n",
       "   'total_duration': '1 yr 9 mos',\n",
       "   'location': 'Jan 2019 - Apr 2019 · 4 mos',\n",
       "   'description': 'Teaching Assistant under Dr. Pravas Ranjan Sahu. Associate Professor. School of Electrical Sciences, IIT Bhubaneswar.Subjects :  Advance Communication Engineering,  Digital Communication NetworkTeaching Assistant under Dr. Pravas Ranjan Sahu. Associate Professor. School of Electrical Sciences, IIT Bhubaneswar.\\nSubjects :  Advance Communication Engineering,  Digital Communication Network'},\n",
       "  {'position': {'title': 'Internship',\n",
       "    'position_type': 'Not Available',\n",
       "    'description': 'I completed two courses under BSNL-AICTE Employability Enhancement Training Programme1. BSNL Silver Certified Engineer2. BSNL Gold Certified EngineerI completed two courses under BSNL-AICTE Employability Enhancement Training Programme\\n1. BSNL Silver Certified Engineer\\n2. BSNL Gold Certified Engineer'},\n",
       "   'company/institute': 'Bharat Sanchar Nigam Limited',\n",
       "   'total_duration': 'Jul 2014 - Jul 2015',\n",
       "   'location': 'Lucknow Area, India'}],\n",
       " 'recommendations': [{'giver': 'Simhadri Vadrevu',\n",
       "   'desc': 'He was working in the Automatic Audio Event Recognition project and developed various Schemes for Context-Aware Audio Computing Devices. He helped me and other lab members in the department whenever we had problems in the model design. I recall that he had very few related audio recordings and improper model specifications for audio event recognition but he put tremendous effort to develop the Schemes for Context-Aware Audio Computing Devices. He is skillful in his thinking and finding a solution to any problem. He has worked in many tools and is proficient in Matlab, python, c. He is also interested in doing research in Matlab. His involvement with other research scholars investigating different problems related to signal processing is phenomenal. He is a very talented and dedicated person. I strongly recommend him for a Research engineer position. His ethics and commitment towards work will be an asset to any company.'}],\n",
       " 'awards': [{'title': 'AICTE PG Scholarship',\n",
       "   'issuer': 'All India Council for Technical Education (AICTE)',\n",
       "   'date': 'Sep 2017'},\n",
       "  {'title': 'Certificate of Merit',\n",
       "   'issuer': 'Sri Ramswaroop Memorial College of Engineering and Management Lucknow',\n",
       "   'date': 'Jul 2016'},\n",
       "  {'title': 'Certificate of Appreciation',\n",
       "   'issuer': 'Sri Ramswaroop Memorial College of Engineering and Management Lucknow',\n",
       "   'date': 'Sep 2014'}],\n",
       " 'licenses_and_certifications': [{'name': 'LISPRUL-2022 (Linguistic Issues in Speech Processing Research of Under-Resourced Languages)',\n",
       "   'issuer': 'Student Mentorship Program, IIT Dharwad'},\n",
       "  {'name': 'RECENT TRENDS IN SPEECH ASSISTIVE TECHNOLOGIES',\n",
       "   'issuer': 'Sri Sivasubramaniya Nadar College Of Engineering'},\n",
       "  {'name': 'RESEARCH ACCELERATOR',\n",
       "   'issuer': 'Admissions - Shiv Nadar University, Delhi - NCR'}],\n",
       " 'skills': ['Research', 'Signal Processing', 'Machine Learning']}"
      ]
     },
     "execution_count": 8,
     "metadata": {},
     "output_type": "execute_result"
    }
   ],
   "source": [
    "shivam"
   ]
  },
  {
   "cell_type": "code",
   "execution_count": 4,
   "metadata": {},
   "outputs": [
    {
     "ename": "NameError",
     "evalue": "name 'shivam' is not defined",
     "output_type": "error",
     "traceback": [
      "\u001b[0;31m---------------------------------------------------------------------------\u001b[0m",
      "\u001b[0;31mNameError\u001b[0m                                 Traceback (most recent call last)",
      "\u001b[1;32m/home/kaydee647/Documents/linkedin-scraper/process.ipynb Cell 47'\u001b[0m in \u001b[0;36m<cell line: 94>\u001b[0;34m()\u001b[0m\n\u001b[1;32m     <a href='vscode-notebook-cell:/home/kaydee647/Documents/linkedin-scraper/process.ipynb#ch0000046?line=90'>91</a>\u001b[0m         \u001b[39mreturn\u001b[39;00m createTemplate(data,strings \u001b[39m=\u001b[39m strings)\n\u001b[1;32m     <a href='vscode-notebook-cell:/home/kaydee647/Documents/linkedin-scraper/process.ipynb#ch0000046?line=92'>93</a>\u001b[0m     \u001b[39mreturn\u001b[39;00m template\n\u001b[0;32m---> <a href='vscode-notebook-cell:/home/kaydee647/Documents/linkedin-scraper/process.ipynb#ch0000046?line=93'>94</a>\u001b[0m \u001b[39mprint\u001b[39m(createTemplate(shivam)\u001b[39m+\u001b[39m\u001b[39m'\u001b[39m\u001b[39m\\n\u001b[39;00m\u001b[39m'\u001b[39m)\n\u001b[1;32m     <a href='vscode-notebook-cell:/home/kaydee647/Documents/linkedin-scraper/process.ipynb#ch0000046?line=94'>95</a>\u001b[0m \u001b[39mprint\u001b[39m(createTemplate(shivam)\u001b[39m+\u001b[39m\u001b[39m'\u001b[39m\u001b[39m\\n\u001b[39;00m\u001b[39m'\u001b[39m)\n\u001b[1;32m     <a href='vscode-notebook-cell:/home/kaydee647/Documents/linkedin-scraper/process.ipynb#ch0000046?line=95'>96</a>\u001b[0m \u001b[39mprint\u001b[39m(createTemplate(shivam)\u001b[39m+\u001b[39m\u001b[39m'\u001b[39m\u001b[39m\\n\u001b[39;00m\u001b[39m'\u001b[39m)\n",
      "\u001b[0;31mNameError\u001b[0m: name 'shivam' is not defined"
     ]
    }
   ],
   "source": [
    "import random\n",
    "\n",
    "strings = {}\n",
    "\n",
    "\n",
    "\n",
    "#Only use if location is provided\n",
    "strings['location'] = [\n",
    "    'I heard you\\'re from {location}, how\\'s the weather there? ',\n",
    "    'I heard you\\'re from {location}! Been there myself, its a lovely place. ',\n",
    "    'I can see you\\'re from {location}. It\\'s a beautiful place. ',\n",
    "]\n",
    "\n",
    "#Only use if skill is provided\n",
    "strings['skill'] = [\n",
    "    'I have been looking at your profile. I believe you are skilled enough at {skill}. That must have taken a lot of hours ',\n",
    "    'Looking at your profile, I could see you have a lot of experience with {skill}. How did you get so good at it?',\n",
    "    'I can see that you are very skilled in {skill}. When did you start working on it?', # Multiple skills\n",
    "]\n",
    "\n",
    "strings['awards'] = [\n",
    "    'Congratulations for your {award}, it is a feat not everyone can achieve... More power to you!',\n",
    "    'I can also see that you have been awarded {award}! Congratulations to you! How would you describe the joy of the moment you recieved it?',\n",
    "]\n",
    "\n",
    "#Only use if certification is provided\n",
    "strings['certifications'] = [\n",
    "    'I can also see that you are certified in {certificate} by {issuer}. That is quite a feat! Kudos to you...',\n",
    "    'I can see that you have a highly valuable {issuer} certification in {certificate}. Congratulations to you!',\n",
    "]\n",
    "\n",
    "strings['recommendations'] = [\n",
    "    'I can see that you have been recommended by {giver} for your skills. That is quite a feat! Kudos to you...',\n",
    "    'I can see in your profile that {giver} had quite a time working with you. I\\'m sure ou must be a great person to work with',\n",
    "    'I can see that you have been recommended by {giver} on your profile. You have really great connections!',\n",
    "]\n",
    "\n",
    "#Only use if experience is provided\n",
    "strings['experience'] = [\n",
    "    'I can see that you have experience as a {position} at {company}. How was the experience?',\n",
    "    'Being a {position} at {company} must have been quite an experience for you.',\n",
    "    'I can see that you have worked at {company} for the period of {total_time}. How was the experience?',\n",
    "]\n",
    "\n",
    "strings['college'] = [\n",
    "    'I can see that you are an alumni of {college}. That is something to be proud of... More power to you!',\n",
    "    'Being an alumni of the presitgious {college} is something that sets you apart from the crowd. Keep crushing it!',\n",
    "    'It is a delight to know that you were a student of {college}. ',\n",
    "    'It is a great honor to know that you did your {degree} graduated from {college}.',\n",
    "]\n",
    "\n",
    "def createTemplate(data,strings = strings):\n",
    "    '''\n",
    "    Creates a template from the strings dictionary\n",
    "    '''\n",
    "    random.seed()\n",
    "    template = ''\n",
    "    #randomly select from list\n",
    "    template += random.choice(['Hi', 'Greetings', 'Hello', 'Hey']) + ' '\n",
    "    template += data['name'].split(' ')[0] + ', '\n",
    "    key = random.choice( list(strings.keys()) )\n",
    "    print('Key: ', key, '\\n')\n",
    "    str = random.choice(strings[key])\n",
    "    try:\n",
    "        if key == 'location':\n",
    "            str = str.replace('{location}',data['intro-location'].split(',')[0])\n",
    "        elif key == 'skill':\n",
    "            str = str.replace('{skill}',random.choice(data['skills']))\n",
    "        elif key == 'awards':\n",
    "            award = random.choice(data['awards'])\n",
    "            str = str.replace('{award}', award['title']).replace('{issuer}', award['issuer'])\n",
    "        elif key == 'recommendations':\n",
    "            recc = random.choice(data['recommendations'])\n",
    "            str = str.replace('{giver}',recc['giver'])\n",
    "        elif key == 'certifications':\n",
    "            cert = random.choice(data['licenses_and_certifications'])\n",
    "            str = str.replace('{certificate}',cert['name']).replace('{issuer}',cert['issuer'])\n",
    "        elif key == 'experience':\n",
    "            exp = random.choice(data['experience'])\n",
    "            try:\n",
    "                str = str.replace('{position}',exp['position']['title'])\n",
    "            except:\n",
    "                str = str.replace('{position}',exp['position'][0]['title'])\n",
    "            str = str.replace('{company}',exp['company/institute'])\n",
    "            str = str.replace('{total_time}',exp['total_duration'])\n",
    "        elif key == 'college':\n",
    "            str = str.replace('{college}',data['education'][0]['institute'])\n",
    "            str = str.replace('{degree}',data['education'][0]['degree'])\n",
    "        template += str\n",
    "    except:\n",
    "        return createTemplate(data,strings = strings)\n",
    "    \n",
    "    return template\n",
    "print(createTemplate(shivam)+'\\n')\n",
    "print(createTemplate(shivam)+'\\n')\n",
    "print(createTemplate(shivam)+'\\n')\n",
    "print(createTemplate(shivam)+'\\n')\n",
    "print(createTemplate(shivam)+'\\n')\n",
    "print(createTemplate(shivam)+'\\n')\n",
    "print(createTemplate(shivam)+'\\n')\n",
    "print(createTemplate(shivam)+'\\n')\n",
    "print(createTemplate(shivam)+'\\n')\n",
    "print(createTemplate(shivam)+'\\n')\n",
    "print(createTemplate(shivam)+'\\n')\n",
    "print(createTemplate(shivam)+'\\n')\n",
    "print(createTemplate(shivam)+'\\n')\n",
    "print(createTemplate(shivam)+'\\n')\n",
    "print(createTemplate(shivam)+'\\n')\n",
    "print(createTemplate(shivam)+'\\n')\n"
   ]
  },
  {
   "cell_type": "code",
   "execution_count": 24,
   "metadata": {},
   "outputs": [
    {
     "data": {
      "text/plain": [
       "['hi',\n",
       " 'location',\n",
       " 'skill',\n",
       " 'awards',\n",
       " 'certifications',\n",
       " 'experience',\n",
       " 'praise',\n",
       " 'praise-params']"
      ]
     },
     "execution_count": 24,
     "metadata": {},
     "output_type": "execute_result"
    }
   ],
   "source": [
    "list(strings.keys())"
   ]
  },
  {
   "cell_type": "markdown",
   "metadata": {},
   "source": [
    "Testing the data now"
   ]
  },
  {
   "cell_type": "code",
   "execution_count": 110,
   "metadata": {},
   "outputs": [],
   "source": [
    "import scraper\n",
    "import creds\n",
    "url = 'https://www.linkedin.com/in/shivam-soni-b46992148/'\n",
    "driver = scraper.init_driver(creds.username,creds.password)\n",
    "dict = scraper.scrape_profile(url,driver)"
   ]
  },
  {
   "cell_type": "code",
   "execution_count": 22,
   "metadata": {},
   "outputs": [
    {
     "data": {
      "text/plain": [
       "['http://www.linkedin.com/in/anastasia-prosina-b1354b106',\n",
       " 'http://www.linkedin.com/in/aaron-sorrell-3941a67',\n",
       " 'http://www.linkedin.com/in/aaron-leshtz-602b366',\n",
       " 'http://www.linkedin.com/in/aaronjdemayo',\n",
       " 'http://www.linkedin.com/in/ali-basbous-34298118',\n",
       " 'http://www.linkedin.com/in/abigail-coover-2820429',\n",
       " 'http://www.linkedin.com/in/adamarogers',\n",
       " 'http://www.linkedin.com/in/adam-rosa-61a9a826',\n",
       " 'http://www.linkedin.com/in/adam-steinbach-aia-leed-ap-1388a11a',\n",
       " 'http://www.linkedin.com/in/adelleyork',\n",
       " 'http://www.linkedin.com/in/adinahall',\n",
       " 'http://www.linkedin.com/in/adi-gershoni-491861b',\n",
       " 'http://www.linkedin.com/in/albert-gallo-48b53b16',\n",
       " 'http://www.linkedin.com/in/anthony-tony-giorgio-87074ba',\n",
       " 'http://www.linkedin.com/in/abby-gordon-967a702b',\n",
       " 'http://www.linkedin.com/in/alexander-gorlin-0908528',\n",
       " 'http://www.linkedin.com/in/alejandro-antonio-aguirrechu-b6112791',\n",
       " 'http://www.linkedin.com/in/agustinacervera',\n",
       " 'http://www.linkedin.com/in/ajtaaca',\n",
       " 'http://www.linkedin.com/in/alandavidwhite',\n",
       " 'http://www.linkedin.com/in/awidesign',\n",
       " 'http://www.linkedin.com/in/alex-freij-07143b16',\n",
       " 'http://www.linkedin.com/in/alexworden',\n",
       " 'http://www.linkedin.com/in/alexa-nafisi-1944ba28',\n",
       " 'http://www.linkedin.com/in/alexis-readinger-1296a94',\n",
       " 'http://www.linkedin.com/in/alp-gumus-40594216',\n",
       " 'http://www.linkedin.com/in/amandawaltercommunications',\n",
       " 'http://www.linkedin.com/in/amir-daghigh-23b14124',\n",
       " 'http://www.linkedin.com/in/amnaansari',\n",
       " 'http://www.linkedin.com/in/amy-weaver-a8b12017',\n",
       " 'http://www.linkedin.com/in/amy-sparks',\n",
       " 'http://www.linkedin.com/in/amy-minicilli',\n",
       " 'http://www.linkedin.com/in/andrea-murray-362a124',\n",
       " 'http://www.linkedin.com/in/angie-klein-3415bb9',\n",
       " 'http://www.linkedin.com/in/landcurrent',\n",
       " 'http://www.linkedin.com/in/ann-blossfeld-2173a22',\n",
       " 'http://www.linkedin.com/in/anna-alegre-7838342b',\n",
       " 'http://www.linkedin.com/in/akgdesignstudio',\n",
       " 'http://www.linkedin.com/in/anne-smith-14a9b06',\n",
       " 'http://www.linkedin.com/in/annie-tutunjian-5908325',\n",
       " 'http://www.linkedin.com/in/anthonyroxasarchitect',\n",
       " 'http://www.linkedin.com/in/aerico',\n",
       " 'http://www.linkedin.com/in/aprilhensley',\n",
       " 'http://www.linkedin.com/in/w-daniel-bickerstaff-ii-aia-noma-ncarb-7ba9896',\n",
       " 'http://www.linkedin.com/in/amandalreid',\n",
       " 'http://www.linkedin.com/in/arleengarciaherbst',\n",
       " 'http://www.linkedin.com/in/aurgho-jyoti-aia-198a4413',\n",
       " 'http://www.linkedin.com/in/axelclissen',\n",
       " 'http://www.linkedin.com/in/bruno-bondanelli-aia-leed-ap-0bab215',\n",
       " 'http://www.linkedin.com/in/batshalom',\n",
       " 'http://www.linkedin.com/in/robert-h-case-7a694519',\n",
       " 'http://www.linkedin.com/in/beckymmorgan',\n",
       " 'http://www.linkedin.com/in/bentrogdonarchitect',\n",
       " 'http://www.linkedin.com/in/ben-young-371886a',\n",
       " 'http://www.linkedin.com/in/benjamin-lasseter-09a17a19',\n",
       " 'http://www.linkedin.com/in/ben-toam-42449610',\n",
       " 'http://www.linkedin.com/in/benjaminparco',\n",
       " 'http://www.linkedin.com/in/dcstrategies',\n",
       " 'http://www.linkedin.com/in/brantleyhightower',\n",
       " 'http://www.linkedin.com/in/bill-orr-a1a99ba',\n",
       " 'http://www.linkedin.com/in/elizabeth-kerman-morris-aia',\n",
       " 'http://www.linkedin.com/in/braden-kowalski-574a7a63',\n",
       " 'http://www.linkedin.com/in/blair-michener-bla-asla-518a0715',\n",
       " 'http://www.linkedin.com/in/bennett-martin-45a9a0a',\n",
       " 'http://www.linkedin.com/in/ben-noyes-66244516',\n",
       " 'http://www.linkedin.com/in/bobsheltonpgh',\n",
       " 'http://www.linkedin.com/in/kendalbowman',\n",
       " 'http://www.linkedin.com/in/brad-siedlecki-ba3b054',\n",
       " 'http://www.linkedin.com/in/bradbenjamin',\n",
       " 'http://www.linkedin.com/in/bradley-madison-cdt-cm-bim-bim-r-03a52826',\n",
       " 'http://www.linkedin.com/in/brandon-bellegarde-648a5815',\n",
       " 'http://www.linkedin.com/in/breeze-glazer-89649126',\n",
       " 'http://www.linkedin.com/in/brent-kendle-b1361310',\n",
       " 'http://www.linkedin.com/in/brian-mackenzie-7545a14b',\n",
       " 'http://www.linkedin.com/in/bridgettshank',\n",
       " 'http://www.linkedin.com/in/brian-roberts-450795b',\n",
       " 'http://www.linkedin.com/in/basebuilts',\n",
       " 'http://www.linkedin.com/in/brenda-sellers-3b2966',\n",
       " 'http://www.linkedin.com/in/bridgettwakefield',\n",
       " 'http://www.linkedin.com/in/bill-whitlock-20ba1a',\n",
       " 'http://www.linkedin.com/in/carrie-shores-diller-leed-ap-caps-adu-specialist-34372b8',\n",
       " 'http://www.linkedin.com/in/caseyo1',\n",
       " 'http://www.linkedin.com/in/curtis-w-clerkley-jr-90b0b114',\n",
       " 'http://www.linkedin.com/in/hypertecture',\n",
       " 'http://www.linkedin.com/in/chadsmith4',\n",
       " 'http://www.linkedin.com/in/chad-mcspadden-22051832',\n",
       " 'http://www.linkedin.com/in/charleswarren',\n",
       " 'http://www.linkedin.com/in/charlestraylor-archline',\n",
       " 'http://www.linkedin.com/in/charlesbkerr',\n",
       " 'http://www.linkedin.com/in/charlesbrownmpa',\n",
       " 'http://www.linkedin.com/in/chongba-sherpa-cep-ccm-leed-ap-vma-6494481b',\n",
       " 'http://www.linkedin.com/in/chris-love-14175631',\n",
       " 'http://www.linkedin.com/in/chrishuntsman1010',\n",
       " 'http://www.linkedin.com/in/leedesignstudio',\n",
       " 'http://www.linkedin.com/in/chris-dulnikowski-63905b1',\n",
       " 'http://www.linkedin.com/in/chriscatton1',\n",
       " 'http://www.linkedin.com/in/chris-carr-b3087243',\n",
       " 'http://www.linkedin.com/in/chrispilikyan',\n",
       " 'http://www.linkedin.com/in/christian-duvernois-6107a885',\n",
       " 'http://www.linkedin.com/in/christina-cho-yoo-aia-pe-leed-ap-bd-c-84b5263',\n",
       " 'http://www.linkedin.com/in/chris-hurley-leed-ap-bd-c-cmit-a603ba45',\n",
       " 'http://www.linkedin.com/in/charlie-jahnigen-27b3809',\n",
       " 'http://www.linkedin.com/in/carl-jones-assoc-aia-67154256',\n",
       " 'http://www.linkedin.com/in/clay-holden-659258a',\n",
       " 'http://www.linkedin.com/in/clementina-vinals-ba09b84b',\n",
       " 'http://www.linkedin.com/in/carlos-a-martin-70486814',\n",
       " 'http://www.linkedin.com/in/c%c3%b4me-m%c3%a9nage-aia-ncarb-b9835522',\n",
       " 'http://www.linkedin.com/in/cathy-merrill-97737022',\n",
       " 'http://www.linkedin.com/in/cory-walker-43650929',\n",
       " 'http://www.linkedin.com/in/courtneyjane',\n",
       " 'http://www.linkedin.com/in/cove-britton-4a11619',\n",
       " 'http://www.linkedin.com/in/cheyne-owens-6871615',\n",
       " 'http://www.linkedin.com/in/carlos-f-perez-pla-61503454',\n",
       " 'http://www.linkedin.com/in/cdparchitecture',\n",
       " 'http://www.linkedin.com/in/cristinamoe',\n",
       " 'http://www.linkedin.com/in/crittert',\n",
       " 'http://www.linkedin.com/in/ctinker',\n",
       " 'http://www.linkedin.com/in/cynthia-grizzle-4925313a',\n",
       " 'http://www.linkedin.com/in/donald-tuitel-a59b2215',\n",
       " 'http://www.linkedin.com/in/demetrios-comodromos-ra-465699b',\n",
       " 'http://www.linkedin.com/in/daniel-scott-mascione-5319733',\n",
       " 'http://www.linkedin.com/in/dan-demille-600a8421',\n",
       " 'http://www.linkedin.com/in/dansateriiaibd',\n",
       " 'http://www.linkedin.com/in/dan-sherer-9a92a421',\n",
       " 'http://www.linkedin.com/in/daniel-weaver-a6701511',\n",
       " 'http://www.linkedin.com/in/daniel-baschkier-assoc-aia-072432a',\n",
       " 'http://www.linkedin.com/in/danielkaven',\n",
       " 'http://www.linkedin.com/in/daniyal-m-awan-15231baa',\n",
       " 'http://www.linkedin.com/in/danielarango',\n",
       " 'http://www.linkedin.com/in/darrell-day-a86953',\n",
       " 'http://www.linkedin.com/in/dave-kerr-7663446',\n",
       " 'http://www.linkedin.com/in/david-kviria-7099438a',\n",
       " 'http://www.linkedin.com/in/david-maclean-54379914',\n",
       " 'http://www.linkedin.com/in/david-armour-6096746',\n",
       " 'http://www.linkedin.com/in/david-bassan-aia-00923b41',\n",
       " 'http://www.linkedin.com/in/david-norvelle-8a273a1b',\n",
       " 'http://www.linkedin.com/in/david-young-83303628',\n",
       " 'http://www.linkedin.com/in/david-gjertson-pla-aicp-asla-29349311',\n",
       " 'http://www.linkedin.com/in/david-hobstetter-631967a',\n",
       " 'http://www.linkedin.com/in/david-garcia-assoc-aia-4b602852',\n",
       " 'http://www.linkedin.com/in/david-rousso-073515159',\n",
       " 'http://www.linkedin.com/in/david-m-fenchel-35411b55',\n",
       " 'http://www.linkedin.com/in/david-swenk-167b1b43',\n",
       " 'http://www.linkedin.com/in/douglascutler',\n",
       " 'http://www.linkedin.com/in/deborahbgross',\n",
       " 'http://www.linkedin.com/in/deedee-olsen',\n",
       " 'http://www.linkedin.com/in/demar-matthews-68a179100',\n",
       " 'http://www.linkedin.com/in/c-denise-shaw-18015118',\n",
       " 'http://www.linkedin.com/in/dennisjswart',\n",
       " 'http://www.linkedin.com/in/dennis-mcclain-980ba037',\n",
       " 'http://www.linkedin.com/in/douglashalljr',\n",
       " 'http://www.linkedin.com/in/diana-ibarra-71b6b914',\n",
       " 'http://www.linkedin.com/in/diana-millos',\n",
       " 'http://www.linkedin.com/in/rdrmiami',\n",
       " 'http://www.linkedin.com/in/dino-sakellar-faia-90b97b7',\n",
       " 'http://www.linkedin.com/in/dirk-denison-3509a51',\n",
       " 'http://www.linkedin.com/in/damonleverett',\n",
       " 'http://www.linkedin.com/in/david-meyer-10840b7',\n",
       " 'http://www.linkedin.com/in/david-moser-46971a12',\n",
       " 'http://www.linkedin.com/in/doron-dreksler-41674711',\n",
       " 'http://www.linkedin.com/in/reynoldsarchitecture',\n",
       " 'http://www.linkedin.com/in/douglas-brown-b5b1011b',\n",
       " 'http://www.linkedin.com/in/douglas-fredrikson-aia-ncarb-90056410',\n",
       " 'http://www.linkedin.com/in/deryl-patterson-96414a8',\n",
       " 'http://www.linkedin.com/in/rdeanscott',\n",
       " 'http://www.linkedin.com/in/david-stone-b949a742',\n",
       " 'http://www.linkedin.com/in/david-thompson-b7bbaba',\n",
       " 'http://www.linkedin.com/in/duanepritchett',\n",
       " 'http://www.linkedin.com/in/edwin-baimpwi-6666b814',\n",
       " 'http://www.linkedin.com/in/ed-connealy-876aa23',\n",
       " 'http://www.linkedin.com/in/eric-carle-60516710',\n",
       " 'http://www.linkedin.com/in/ed-norton-35938b2b',\n",
       " 'http://www.linkedin.com/in/eddy-bitton-a139b14',\n",
       " 'http://www.linkedin.com/in/eden-stringham-8166137b',\n",
       " 'http://www.linkedin.com/in/enrique-jimenez-vargas-3ba7472b',\n",
       " 'http://www.linkedin.com/in/ellyn-freed-500b2064',\n",
       " 'http://www.linkedin.com/in/eric-j-williams-asla-68289b61',\n",
       " 'http://www.linkedin.com/in/eric-oskey-a95b23b',\n",
       " 'http://www.linkedin.com/in/j-eric-spangler-b8308699',\n",
       " 'http://www.linkedin.com/in/erick-mikiten-34678411',\n",
       " 'http://www.linkedin.com/in/erik-berg-741b8333',\n",
       " 'http://www.linkedin.com/in/erik-miller-klein',\n",
       " 'http://www.linkedin.com/in/erla-dögg-minarc-ingjaldsdottir-54a60115',\n",
       " 'http://www.linkedin.com/in/edwin-smart-aia-ncarb-5a793912',\n",
       " 'http://www.linkedin.com/in/felicia-nitu-a34749160',\n",
       " 'http://www.linkedin.com/in/felix-ziga-aia-5a90225a',\n",
       " 'http://www.linkedin.com/in/jerryafountain',\n",
       " 'http://www.linkedin.com/in/francesca-bastianini-70384842',\n",
       " 'http://www.linkedin.com/in/frankfuller',\n",
       " 'http://www.linkedin.com/in/fred-b-montes-aia-leed-ap-a49b4348',\n",
       " 'http://www.linkedin.com/in/gail-baumoehl-05095264',\n",
       " 'http://www.linkedin.com/in/galinacoada',\n",
       " 'http://www.linkedin.com/in/garo-minassian-1a274214',\n",
       " 'http://www.linkedin.com/in/gary-gibson-92984210',\n",
       " 'http://www.linkedin.com/in/gaylabechtolarchitect',\n",
       " 'http://www.linkedin.com/in/gaynor-sherer-004a55b',\n",
       " 'http://www.linkedin.com/in/gustavo-berenblum-68b9526b',\n",
       " 'http://www.linkedin.com/in/gennifer-mu%c3%b1oz-3765157b',\n",
       " 'http://www.linkedin.com/in/geoffrey-james-eberle-33969164',\n",
       " 'http://www.linkedin.com/in/gregory-l-lake-aia-5354691a',\n",
       " 'http://www.linkedin.com/in/gloriakloter',\n",
       " 'http://www.linkedin.com/in/gi-paoletti-2b88291',\n",
       " 'http://www.linkedin.com/in/greg-melton-7241314',\n",
       " 'http://www.linkedin.com/in/greg-dutton-32504715',\n",
       " 'http://www.linkedin.com/in/gregory-vose-2ab116208',\n",
       " 'http://www.linkedin.com/in/guillaume-belgique-1a987713',\n",
       " 'http://www.linkedin.com/in/hans-breaux-33839212',\n",
       " 'http://www.linkedin.com/in/hafsaburt',\n",
       " 'http://www.linkedin.com/in/heatherrosedunning',\n",
       " 'http://www.linkedin.com/in/david-hertz-faia',\n",
       " 'http://www.linkedin.com/in/heather-j-morrison-b503bb2a',\n",
       " 'http://www.linkedin.com/in/heather-trieschmann-8a79357',\n",
       " 'http://www.linkedin.com/in/j-hulett-jones-9122a24',\n",
       " 'http://www.linkedin.com/in/ignacio-permuy-34841113',\n",
       " 'http://www.linkedin.com/in/ikendall',\n",
       " 'http://www.linkedin.com/in/isabelleharrington',\n",
       " 'http://www.linkedin.com/in/jeff-gordon-5055032b',\n",
       " 'http://www.linkedin.com/in/jackossa',\n",
       " 'http://www.linkedin.com/in/jacknicholasbaldwin',\n",
       " 'http://www.linkedin.com/in/jaclyn-morrison-44522143',\n",
       " 'http://www.linkedin.com/in/jakedemint',\n",
       " 'http://www.linkedin.com/in/james-hartford-aia-leed-ap-bd-c-cphc-9411126',\n",
       " 'http://www.linkedin.com/in/james-bourque-a447904',\n",
       " 'http://www.linkedin.com/in/jagatlin',\n",
       " 'http://www.linkedin.com/in/james-macaluso-13407934',\n",
       " 'http://www.linkedin.com/in/jan-degenshein-34b71510',\n",
       " 'http://www.linkedin.com/in/janicepage',\n",
       " 'http://www.linkedin.com/in/jasonbaldessari',\n",
       " 'http://www.linkedin.com/in/jason-caravello-4746632a',\n",
       " 'http://www.linkedin.com/in/jason-yots-26903117b',\n",
       " 'http://www.linkedin.com/in/john-chase-2b530510',\n",
       " 'http://www.linkedin.com/in/abdulwahabjarrah',\n",
       " 'http://www.linkedin.com/in/jbryantboyd',\n",
       " 'http://www.linkedin.com/in/joostbende',\n",
       " 'http://www.linkedin.com/in/jeffrey-bond-86ba6b56',\n",
       " 'http://www.linkedin.com/in/john-burt-6907091',\n",
       " 'http://www.linkedin.com/in/jeremyerdreich',\n",
       " 'http://www.linkedin.com/in/jennifer-childs-b2a9481',\n",
       " 'http://www.linkedin.com/in/jeff-hatch-aia-b08217a',\n",
       " 'http://www.linkedin.com/in/jeff-kaufman-7a0635b',\n",
       " 'http://www.linkedin.com/in/jeff-white-04315796',\n",
       " 'http://www.linkedin.com/in/jeff-swanson-7163525',\n",
       " 'http://www.linkedin.com/in/jeff-current-9580337',\n",
       " 'http://www.linkedin.com/in/joe-eisner-122b426',\n",
       " 'http://www.linkedin.com/in/jennifer-bolyn-54841612',\n",
       " 'http://www.linkedin.com/in/jennifer-pruett-a948b316',\n",
       " 'http://www.linkedin.com/in/jennifer-orr-b6ba742',\n",
       " 'http://www.linkedin.com/in/jenniferroachtrec',\n",
       " 'http://www.linkedin.com/in/jennifer-weddermann-57367918',\n",
       " 'http://www.linkedin.com/in/rittiluechai',\n",
       " 'http://www.linkedin.com/in/jeremykloter',\n",
       " 'http://www.linkedin.com/in/jeremy-melton',\n",
       " 'http://www.linkedin.com/in/jeremy-barbour-ra-81758b5',\n",
       " 'http://www.linkedin.com/in/jessica-sulprizio-ra-a79a4b14',\n",
       " 'http://www.linkedin.com/in/jessieoaksstaats',\n",
       " 'http://www.linkedin.com/in/jesse-h-57158716',\n",
       " 'http://www.linkedin.com/in/jenniferwilliamshoward',\n",
       " 'http://www.linkedin.com/in/jill-kelleher-pla-leed-15852710',\n",
       " 'http://www.linkedin.com/in/jim-louthen-6b644610',\n",
       " 'http://www.linkedin.com/in/jim-grote-9643536',\n",
       " 'http://www.linkedin.com/in/jim-rios-cid-clia-85412437',\n",
       " 'http://www.linkedin.com/in/jim-sherrer-50019035',\n",
       " 'http://www.linkedin.com/in/jenniferkaeding',\n",
       " 'http://www.linkedin.com/in/john-lively-aa1a07a',\n",
       " 'http://www.linkedin.com/in/jlomichaux',\n",
       " 'http://www.linkedin.com/in/millerarchitect',\n",
       " 'http://www.linkedin.com/in/jocelynn-cambier-a047a946',\n",
       " 'http://www.linkedin.com/in/josephspierer',\n",
       " 'http://www.linkedin.com/in/joseph-del-ciotto-jr-aia-051a05ba']"
      ]
     },
     "execution_count": 22,
     "metadata": {},
     "output_type": "execute_result"
    }
   ],
   "source": [
    "import pandas as pd\n",
    "table = pd.read_csv('./sample_csv/US_Architect_270_QL.csv')\n",
    "\n",
    "url_col = '' #Find the column that stores the url\n",
    "\n",
    "for column in table.columns:\n",
    "    try:\n",
    "        str = table[column][0]\n",
    "        if str[:25] == 'https://www.linkedin.com/' or str[:24] == 'http://www.linkedin.com/':\n",
    "            url_col = column\n",
    "            break\n",
    "    except:\n",
    "        pass\n",
    "\n",
    "list(table[url_col])"
   ]
  },
  {
   "cell_type": "code",
   "execution_count": 27,
   "metadata": {},
   "outputs": [],
   "source": [
    "import random\n",
    "\n",
    "strings = {}\n",
    "\n",
    "\n",
    "\n",
    "#Only use if location is provided\n",
    "strings['location'] = [\n",
    "    'I heard you\\'re from {location}, how\\'s the weather there? ',\n",
    "    'I heard you\\'re from {location}! Been there myself, its a lovely place. ',\n",
    "    'I can see you\\'re from {location}. It\\'s a beautiful place. ',\n",
    "]\n",
    "\n",
    "#Only use if skill is provided\n",
    "strings['skill'] = [\n",
    "    'I have been looking at your profile. I believe you are skilled enough at {skill}. That must have taken a lot of hours ',\n",
    "    'Looking at your profile, I could see you have a lot of experience with {skill}. How did you get so good at it?',\n",
    "    'I can see that you are very skilled in {skill}. When did you start working on it?', # Multiple skills\n",
    "]\n",
    "\n",
    "strings['awards'] = [\n",
    "    'Congratulations for your {award}, it is a feat not everyone can achieve... More power to you!',\n",
    "    'I can also see that you have been awarded {award}! Congratulations to you! How would you describe the joy of the moment you recieved it?',\n",
    "]\n",
    "\n",
    "#Only use if certification is provided\n",
    "strings['certifications'] = [\n",
    "    'I can also see that you are certified in {certificate} by {issuer}. That is quite a feat! Kudos to you...',\n",
    "    'I can see that you have a highly valuable {issuer} certification in {certificate}. Congratulations to you!',\n",
    "]\n",
    "\n",
    "strings['recommendations'] = [\n",
    "    'I can see that you have been recommended by {giver} for your skills. That is quite a feat! Kudos to you...',\n",
    "    'I can see in your profile that {giver} had quite a time working with you. I\\'m sure ou must be a great person to work with',\n",
    "    'I can see that you have been recommended by {giver} on your profile. You have really great connections!',\n",
    "]\n",
    "\n",
    "#Only use if experience is provided\n",
    "strings['experience'] = [\n",
    "    'I can see that you have experience as a {position} at {company}. How was the experience?',\n",
    "    'Being a {position} at {company} must have been quite an experience for you.',\n",
    "    'I can see that you have worked at {company} for the period of {total_time}. How was the experience?',\n",
    "]\n",
    "\n",
    "strings['college'] = [\n",
    "    'I can see that you are an alumni of {college}. That is something to be proud of... More power to you!',\n",
    "    'Being an alumni of the presitgious {college} is something that sets you apart from the crowd. Keep crushing it!',\n",
    "    'It is a delight to know that you were a student of {college}. ',\n",
    "    'It is a great honor to know that you did your {degree} graduated from {college}.',\n",
    "]\n",
    "\n",
    "def create_template(data,strings = strings):\n",
    "    '''\n",
    "    Creates a template from the strings dictionary\n",
    "    '''\n",
    "    random.seed()\n",
    "    template = ''\n",
    "    #randomly select from list\n",
    "    template += random.choice(['Hi', 'Greetings', 'Hello', 'Hey']) + ' '\n",
    "    template += data['name'].split(' ')[0] + ', '\n",
    "    key = random.choice( list(strings.keys()) )\n",
    "    print('Key: ', key, '\\n')\n",
    "    str = random.choice(strings[key])\n",
    "    try:\n",
    "        if key == 'location':\n",
    "            str = str.replace('{location}',data['intro-location'].split(',')[0])\n",
    "        elif key == 'skill':\n",
    "            str = str.replace('{skill}',random.choice(data['skills']))\n",
    "        elif key == 'awards':\n",
    "            award = random.choice(data['awards'])\n",
    "            str = str.replace('{award}', award['title']).replace('{issuer}', award['issuer'])\n",
    "        elif key == 'recommendations':\n",
    "            recc = random.choice(data['recommendations'])\n",
    "            str = str.replace('{giver}',recc['giver'])\n",
    "        elif key == 'certifications':\n",
    "            cert = random.choice(data['licenses_and_certifications'])\n",
    "            str = str.replace('{certificate}',cert['name']).replace('{issuer}',cert['issuer'])\n",
    "        elif key == 'experience':\n",
    "            exp = random.choice(data['experience'])\n",
    "            try:\n",
    "                str = str.replace('{position}',exp['position']['title'])\n",
    "            except:\n",
    "                str = str.replace('{position}',exp['position'][0]['title'])\n",
    "            str = str.replace('{company}',exp['company/institute'])\n",
    "            str = str.replace('{total_time}',exp['total_duration'])\n",
    "        elif key == 'college':\n",
    "            str = str.replace('{college}',data['education'][0]['institute'])\n",
    "            str = str.replace('{degree}',data['education'][0]['degree'])\n",
    "        template += str\n",
    "    except:\n",
    "        return create_template(data,strings = strings)\n",
    "    \n",
    "    return template,key"
   ]
  },
  {
   "cell_type": "code",
   "execution_count": 28,
   "metadata": {},
   "outputs": [
    {
     "name": "stdout",
     "output_type": "stream",
     "text": [
      "Key:  recommendations \n",
      "\n",
      "Key:  recommendations \n",
      "\n",
      "Key:  recommendations \n",
      "\n"
     ]
    },
    {
     "name": "stderr",
     "output_type": "stream",
     "text": [
      "/tmp/ipykernel_131217/3639375466.py:18: SettingWithCopyWarning: \n",
      "A value is trying to be set on a copy of a slice from a DataFrame\n",
      "\n",
      "See the caveats in the documentation: https://pandas.pydata.org/pandas-docs/stable/user_guide/indexing.html#returning-a-view-versus-a-copy\n",
      "  table['Trait {}'.format(j)][i] = key\n",
      "/tmp/ipykernel_131217/3639375466.py:19: SettingWithCopyWarning: \n",
      "A value is trying to be set on a copy of a slice from a DataFrame\n",
      "\n",
      "See the caveats in the documentation: https://pandas.pydata.org/pandas-docs/stable/user_guide/indexing.html#returning-a-view-versus-a-copy\n",
      "  table['Compliment Line {}'.format(j)][i] = txt\n"
     ]
    },
    {
     "name": "stdout",
     "output_type": "stream",
     "text": [
      "Key:  certifications \n",
      "\n",
      "Key:  recommendations \n",
      "\n",
      "Key:  certifications \n",
      "\n",
      "Key:  experience \n",
      "\n",
      "Key:  location \n",
      "\n",
      "Key:  certifications \n",
      "\n",
      "Key:  location \n",
      "\n",
      "Key:  location \n",
      "\n",
      "Key:  certifications \n",
      "\n",
      "Key:  certifications \n",
      "\n",
      "Key:  recommendations \n",
      "\n",
      "Key:  college \n",
      "\n",
      "Key:  location \n",
      "\n",
      "Key:  skill \n",
      "\n",
      "Key:  skill \n",
      "\n",
      "Key:  college \n",
      "\n",
      "Key:  recommendations \n",
      "\n",
      "Key:  awards \n",
      "\n",
      "Key:  awards \n",
      "\n",
      "Key:  location \n",
      "\n",
      "Key:  location \n",
      "\n",
      "Key:  experience \n",
      "\n",
      "Key:  certifications \n",
      "\n",
      "Key:  recommendations \n",
      "\n",
      "Key:  awards \n",
      "\n",
      "Key:  college \n",
      "\n",
      "Key:  skill \n",
      "\n",
      "Key:  awards \n",
      "\n",
      "Key:  certifications \n",
      "\n",
      "Key:  awards \n",
      "\n",
      "Key:  college \n",
      "\n",
      "Key:  skill \n",
      "\n",
      "Key:  skill \n",
      "\n",
      "Key:  awards \n",
      "\n",
      "Key:  skill \n",
      "\n",
      "Key:  certifications \n",
      "\n",
      "Key:  skill \n",
      "\n",
      "Key:  skill \n",
      "\n"
     ]
    }
   ],
   "source": [
    "import scraper\n",
    "import pandas as pd\n",
    "import time\n",
    "username = 'dipadey213@gmail.com'\n",
    "password = 'dipa9864d$#'\n",
    "\n",
    "driver = scraper.init_driver(username,password)\n",
    "\n",
    "for n in range(3):\n",
    "    table['Trait {}'.format(n+1)] = ''\n",
    "    table['Compliment Line {}'.format(n+1)] = ''\n",
    "\n",
    "for i in table.index:\n",
    "    url = table[url_col][i] #Get the URL\n",
    "    data = scraper.scrape_profile(url,driver) #Scrape the profile\n",
    "    for j in range(3):\n",
    "        txt,key = create_template(data)\n",
    "        table['Trait {}'.format(j+1)][i] = key\n",
    "        table['Compliment Line {}'.format(j+1)][i] = txt\n",
    "    time.sleep(5)\n",
    "    if i == 10:\n",
    "        break\n",
    "\n",
    "\n"
   ]
  },
  {
   "cell_type": "code",
   "execution_count": 29,
   "metadata": {},
   "outputs": [
    {
     "data": {
      "text/plain": [
       "Index(['Subject Line 1', 'Quicklines 1', 'Subject Line 2', 'Quicklines 2',\n",
       "       'Subject Line 3', 'Quicklines 3', 'Cleaned Company Name', 'Status',\n",
       "       'Error Message', 'Email', 'Verification Result', 'Verified At',\n",
       "       'Syntax Error', 'ISP', 'Role', 'Disposable', 'Trap', 'First Name',\n",
       "       'Last Name', 'Title', 'Company', 'Company Name for Emails',\n",
       "       'Email Status', 'Email Confidence', 'Seniority', 'Departments',\n",
       "       'First Phone', 'Corporate Phone', 'Lists', '# Employees', 'Industry',\n",
       "       'Keywords', 'Person Linkedin Url', 'Website', 'Company Linkedin Url',\n",
       "       'Facebook Url', 'Twitter Url', 'City', 'State', 'Country',\n",
       "       'Company Address', 'Company City', 'Company State', 'Company Country',\n",
       "       'Company Phone', 'Technologies', 'Annual Revenue', 'Trait 0',\n",
       "       'Compliment Line 0', 'Trait 1', 'Compliment Line 1', 'Trait 2',\n",
       "       'Compliment Line 2'],\n",
       "      dtype='object')"
      ]
     },
     "execution_count": 29,
     "metadata": {},
     "output_type": "execute_result"
    }
   ],
   "source": [
    "table.columns"
   ]
  },
  {
   "cell_type": "code",
   "execution_count": 34,
   "metadata": {},
   "outputs": [],
   "source": [
    "table[[url_col,'Compliment Line 0','Trait 0','Compliment Line 1','Trait 1','Compliment Line 2','Trait 2']].iloc[:10].to_csv('new.csv')"
   ]
  },
  {
   "cell_type": "code",
   "execution_count": 54,
   "metadata": {},
   "outputs": [
    {
     "data": {
      "text/html": [
       "<div>\n",
       "<style scoped>\n",
       "    .dataframe tbody tr th:only-of-type {\n",
       "        vertical-align: middle;\n",
       "    }\n",
       "\n",
       "    .dataframe tbody tr th {\n",
       "        vertical-align: top;\n",
       "    }\n",
       "\n",
       "    .dataframe thead th {\n",
       "        text-align: right;\n",
       "    }\n",
       "</style>\n",
       "<table border=\"1\" class=\"dataframe\">\n",
       "  <thead>\n",
       "    <tr style=\"text-align: right;\">\n",
       "      <th></th>\n",
       "      <th>Name</th>\n",
       "    </tr>\n",
       "  </thead>\n",
       "  <tbody>\n",
       "    <tr>\n",
       "      <th>0</th>\n",
       "      <td>Kaushik</td>\n",
       "    </tr>\n",
       "    <tr>\n",
       "      <th>1</th>\n",
       "      <td>Dipadey</td>\n",
       "    </tr>\n",
       "    <tr>\n",
       "      <th>2</th>\n",
       "      <td>Sachin</td>\n",
       "    </tr>\n",
       "  </tbody>\n",
       "</table>\n",
       "</div>"
      ],
      "text/plain": [
       "      Name\n",
       "0  Kaushik\n",
       "1  Dipadey\n",
       "2   Sachin"
      ]
     },
     "execution_count": 54,
     "metadata": {},
     "output_type": "execute_result"
    }
   ],
   "source": [
    "df = pd.DataFrame()\n",
    "df['Name'] = ''\n",
    "dict = [\n",
    "    {\n",
    "        'Name' : 'Kaushik'\n",
    "    },\n",
    "    {\n",
    "        'Name' : 'Dipadey'\n",
    "    },\n",
    "    {\n",
    "        'Name' : 'Sachin'\n",
    "    }\n",
    "\n",
    "]\n",
    "df2 = pd.DataFrame(dict)\n",
    "df = pd.concat([df2,df],ignore_index=True)\n",
    "df"
   ]
  }
 ],
 "metadata": {
  "kernelspec": {
   "display_name": "Python 3.8.10 ('.venv': venv)",
   "language": "python",
   "name": "python3"
  },
  "language_info": {
   "codemirror_mode": {
    "name": "ipython",
    "version": 3
   },
   "file_extension": ".py",
   "mimetype": "text/x-python",
   "name": "python",
   "nbconvert_exporter": "python",
   "pygments_lexer": "ipython3",
   "version": "3.8.10"
  },
  "orig_nbformat": 4,
  "vscode": {
   "interpreter": {
    "hash": "380c2fd86f54be7d1e8746ca091d7448f55c089c28c4e35a508ff196809e68b3"
   }
  }
 },
 "nbformat": 4,
 "nbformat_minor": 2
}
